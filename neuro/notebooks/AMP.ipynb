{
 "cells": [
  {
   "cell_type": "code",
   "execution_count": null,
   "metadata": {},
   "outputs": [],
   "source": [
    "import os\n",
    "os.chdir('..')\n",
    "import sys\n",
    "sys.path.insert(0, \"/Users/ludo/Desktop/animalai/animalai/animalai_train\")\n",
    "sys.path.insert(1, \"/Users/ludo/Desktop/animalai/animalai/animalai\")\n",
    "\n",
    "from raw_learned import Pipeline\n",
    "from collections import namedtuple\n",
    "from animalai.envs.arena_config import ArenaConfig\n",
    "import os\n",
    "margs = namedtuple('args', 'env seed arena_config num_episodes inference')\n",
    "env_path = '../env/aaiagain'\n",
    "ac = \"configurations/curriculum4/35.yml\"\n",
    "ac = [ArenaConfig(ac)]\n",
    "seed = 1\n",
    "# ac = [ArenaConfig(f\"../competition_configurations/{i}.yml\") for i in x]\n",
    "# print(f\"Total number of arenas:{len(ac)}\")\n",
    "# args = margs(env=env_path, arena_config=ac, num_episodes=len(ac), inference=True)\n",
    "args = margs(env=env_path, seed=seed, arena_config=ac, num_episodes=120, inference=False)\n",
    "pipe = Pipeline(args)"
   ]
  },
  {
   "cell_type": "code",
   "execution_count": null,
   "metadata": {
    "scrolled": true
   },
   "outputs": [],
   "source": [
    "import time\n",
    "start = time.time()\n",
    "x = pipe.learn_run()\n",
    "end = time.time()\n",
    "print(f\"Total time taken: {end-start}\")\n"
   ]
  },
  {
   "cell_type": "code",
   "execution_count": null,
   "metadata": {
    "collapsed": true
   },
   "outputs": [],
   "source": []
  }
 ],
 "metadata": {
  "kernelspec": {
   "display_name": "animalaienv",
   "language": "python",
   "name": "animalaienv"
  },
  "language_info": {
   "codemirror_mode": {
    "name": "ipython",
    "version": 3
   },
   "file_extension": ".py",
   "mimetype": "text/x-python",
   "name": "python",
   "nbconvert_exporter": "python",
   "pygments_lexer": "ipython3",
   "version": "3.6.2"
  }
 },
 "nbformat": 4,
 "nbformat_minor": 2
}
