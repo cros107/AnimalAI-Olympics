{
 "cells": [
  {
   "cell_type": "code",
   "execution_count": 1,
   "metadata": {},
   "outputs": [
    {
     "name": "stderr",
     "output_type": "stream",
     "text": [
      "WARNING:tensorflow:From /Users/ludo/Desktop/animalai/lib/python3.6/site-packages/mlagents/tf_utils/tf.py:33: The name tf.ConfigProto is deprecated. Please use tf.compat.v1.ConfigProto instead.\n",
      "\n"
     ]
    },
    {
     "name": "stdout",
     "output_type": "stream",
     "text": [
      "USING LOCAL LIBRARY\n"
     ]
    },
    {
     "name": "stderr",
     "output_type": "stream",
     "text": [
      "INFO:mlagents_envs:Connected to Unity environment with package version 0.15.0-preview and communication version 0.15.0\n",
      "INFO:mlagents_envs:Connected new brain:\n",
      "AnimalAI?team=0\n",
      "INFO:gym_unity:1 agents within environment.\n"
     ]
    }
   ],
   "source": [
    "import os\n",
    "os.chdir('..')\n",
    "import sys\n",
    "sys.path.insert(0, \"/Users/ludo/Desktop/animalai/animalai/animalai_train\")\n",
    "sys.path.insert(1, \"/Users/ludo/Desktop/animalai/animalai/animalai\")\n",
    "\n",
    "from raw_learned import Pipeline\n",
    "from collections import namedtuple\n",
    "from animalai.envs.arena_config import ArenaConfig\n",
    "import os\n",
    "margs = namedtuple('args', 'env seed arena_config num_episodes inference')\n",
    "env_path = '../env/aaiagain'\n",
    "ac = \"configurations/curriculum4/35.yml\"\n",
    "ac = [ArenaConfig(ac)]\n",
    "seed = 3\n",
    "# ac = [ArenaConfig(f\"../competition_configurations/{i}.yml\") for i in x]\n",
    "# print(f\"Total number of arenas:{len(ac)}\")\n",
    "# args = margs(env=env_path, arena_config=ac, num_episodes=len(ac), inference=True)\n",
    "args = margs(env=env_path, seed=seed, arena_config=ac, num_episodes=120, inference=False)\n",
    "pipe = Pipeline(args)"
   ]
  },
  {
   "cell_type": "code",
   "execution_count": 2,
   "metadata": {
    "scrolled": false
   },
   "outputs": [
    {
     "name": "stdout",
     "output_type": "stream",
     "text": [
      "NEW RULES LEARNED: initiate(interact(V0),V2) :- goal(V0), visible(V0, V1, V2).\n",
      "\n",
      "NEW RULES LEARNED: initiate(explore(V0,V3,V1),V2) :- visible(V0, V1, V2), occludes(V0,V3, V2).\n",
      "\n",
      "NO RULES LEARNED\n",
      "Final results: 102/120 episodes were completed successfully\n",
      "Total time taken: 303.5445759296417\n"
     ]
    }
   ],
   "source": [
    "import time\n",
    "start = time.time()\n",
    "x = pipe.learn_run()\n",
    "end = time.time()\n",
    "print(f\"Total time taken: {end-start}\")\n"
   ]
  },
  {
   "cell_type": "code",
   "execution_count": 1,
   "metadata": {},
   "outputs": [
    {
     "data": {
      "text/plain": [
       "[1]"
      ]
     },
     "execution_count": 1,
     "metadata": {},
     "output_type": "execute_result"
    }
   ],
   "source": [
    "list(range(1,2))"
   ]
  },
  {
   "cell_type": "code",
   "execution_count": null,
   "metadata": {
    "collapsed": true
   },
   "outputs": [],
   "source": []
  }
 ],
 "metadata": {
  "kernelspec": {
   "display_name": "animalaienv",
   "language": "python",
   "name": "animalaienv"
  },
  "language_info": {
   "codemirror_mode": {
    "name": "ipython",
    "version": 3
   },
   "file_extension": ".py",
   "mimetype": "text/x-python",
   "name": "python",
   "nbconvert_exporter": "python",
   "pygments_lexer": "ipython3",
   "version": "3.6.2"
  }
 },
 "nbformat": 4,
 "nbformat_minor": 2
}
