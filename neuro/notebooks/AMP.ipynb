{
 "cells": [
  {
   "cell_type": "code",
   "execution_count": 1,
   "metadata": {
    "scrolled": false
   },
   "outputs": [
    {
     "name": "stderr",
     "output_type": "stream",
     "text": [
      "WARNING:tensorflow:From /Users/ludo/Desktop/animalai/lib/python3.6/site-packages/mlagents/tf_utils/tf.py:33: The name tf.ConfigProto is deprecated. Please use tf.compat.v1.ConfigProto instead.\n",
      "\n"
     ]
    },
    {
     "name": "stdout",
     "output_type": "stream",
     "text": [
      "USING LOCAL LIBRARY\n"
     ]
    },
    {
     "name": "stderr",
     "output_type": "stream",
     "text": [
      "INFO:mlagents_envs:Connected to Unity environment with package version 0.15.0-preview and communication version 0.15.0\n",
      "INFO:mlagents_envs:Connected new brain:\n",
      "AnimalAI?team=0\n",
      "INFO:gym_unity:1 agents within environment.\n"
     ]
    },
    {
     "name": "stdout",
     "output_type": "stream",
     "text": [
      "Success num: 20\n",
      "NEW RULES LEARNED: :~ initiate(interact(V1)).[1@1, V1]\n",
      ":~ goal(V1), initiate(explore(V1,V2)).[-1@2, V1, V2]\n",
      ":~ goal(V1), not initiate(interact(V1)), visible(V1).[1@3, V1]\n",
      "\n",
      "\n",
      "Success num: 38\n",
      "NEW RULES LEARNED: :~ initiate(interact(V1)).[1@1, V1]\n",
      ":~ goal(V1), initiate(explore(V1,V2)).[-1@2, V1, V2]\n",
      ":~ goal(V1), not initiate(interact(V1)), visible(V1).[1@3, V1]\n",
      "\n",
      "\n",
      "Final results: 75/121 episodes were completed successfully\n"
     ]
    },
    {
     "name": "stderr",
     "output_type": "stream",
     "text": [
      "INFO:mlagents_envs:Environment shut down with return code 0.\n"
     ]
    }
   ],
   "source": [
    "import os\n",
    "os.chdir('..')\n",
    "import sys\n",
    "sys.path.insert(0, \"/Users/ludo/Desktop/animalai/animalai/animalai_train\")\n",
    "sys.path.insert(1, \"/Users/ludo/Desktop/animalai/animalai/animalai\")\n",
    "\n",
    "from weak_learned import Pipeline\n",
    "from collections import namedtuple\n",
    "from animalai.envs.arena_config import ArenaConfig\n",
    "import os\n",
    "margs = namedtuple('args', 'env seed arena_config num_episodes inference')\n",
    "env_path = '../env/aaiagain'\n",
    "ac = \"configurations/curriculum4/35.yml\"\n",
    "ac = [ArenaConfig(ac)]\n",
    "# seed = 1\n",
    "# ac = [ArenaConfig(f\"../competition_configurations/{i}.yml\") for i in x]\n",
    "# print(f\"Total number of arenas:{len(ac)}\")\n",
    "args = margs(env=env_path, seed=2, arena_config=ac, num_episodes=121, inference=False)\n",
    "pipe = Pipeline(args)\n",
    "pipe.buffer_size = 50\n",
    "res = pipe.learn_run()\n"
   ]
  },
  {
   "cell_type": "markdown",
   "metadata": {},
   "source": [
    "8/10 success\n",
    "Dont rotate if something is visible\n",
    "Interacting with anything is penalised\n",
    "Exploring is good when exploring the goal WRONG\n",
    ":~ initiate(interact(V1)).[1@2, V1]\n",
    ":~ not initiate(rotate), visible(V1).[-1@3, V1]\n",
    ":~ goal(V1), initiate(explore(V1,V2)).[-1@1, V1, V2]\n",
    "    \n",
    "Success num: 14/20\n",
    "Explore whatever is occluded and if nothing is occluded\n",
    "interact with goal\n",
    "NEW RULES LEARNED: \n",
    ":~ goal(V1), not initiate(interact(V1)).[1@1, V1]\n",
    ":~ not initiate(explore(V1,V2)), occludes(V1,V2).[1@3, V1, V2]\n",
    "\n",
    "Success num: 22/30\n",
    "If goal is visible interact with it\n",
    "Otherwise explore the goal WRONG\n",
    "Otherwsie rotate\n",
    "NEW RULES LEARNED: \n",
    ":~ initiate(rotate).[-1@1]\n",
    ":~ goal(V1), initiate(explore(V1,V2)).[-1@2, V1, V2]\n",
    ":~ goal(V1), initiate(interact(V1)), visible(V1).[-1@3, V1]\n",
    "\n",
    "Noticing that it converges quite fast to policy. Need to add random noise\n",
    "with decaying epsilon to ensure it doesnt\n",
    "\n",
    "\n",
    "Success num: 33/40\n",
    "If something is occluding, explore it\n",
    "Otherwise interact with goal\n",
    "NEW RULES LEARNED: \n",
    ":~ not initiate(explore(V1,V2)), occludes(V1,V2).[1@3, V1, V2]\n",
    ":~ goal(V1), not initiate(interact(V1)).[1@2, V1]\n",
    "\n",
    "Optimal convergence 47/50\n",
    "If goal is visible interact, if anything is visible explore\n",
    "otherwise interacting with something is penalised so better to rotate\n",
    "NEW RULES LEARNED: \n",
    ":~ initiate(interact(V1)).[1@1, V1]\n",
    ":~ initiate(explore(V1,V2)), visible(V1).[-1@2, V1, V2]\n",
    ":~ goal(V1), initiate(interact(V1)), visible(V1).[-1@3, V1]"
   ]
  },
  {
   "cell_type": "code",
   "execution_count": null,
   "metadata": {
    "collapsed": true
   },
   "outputs": [],
   "source": [
    "MAIN LOOP\n",
    "\n",
    "buffer_len = x\n",
    "num_episodes = y\n",
    "for episode in num_episodes:\n",
    "    buffer.append(trace)\n",
    "    if buffer_len_reached:\n",
    "        logic.update_examples(buffer)\n",
    "        logic.update_lp()\n",
    "        \n",
    "\n",
    "UPDATE_LP\n",
    "\n",
    "pairs = []\n",
    "values = []\n",
    "for trace in buffer:\n",
    "    values.append(discount_reward(S-A) for S-A in trace )\n",
    "    var_trace = variabilise(S-A) for S-A in trace\n",
    "    pairs.append(var_trace)\n",
    "\n",
    "unique_states = identify_unique_states(pairs)\n",
    "s_a_tree = branch_by_action(unique_states)\n",
    "avg_branch_value(s_a_tree)\n",
    "for unique_state in unique_states:\n",
    "    #create examples\n",
    "    for each possible_action in unique_state:\n",
    "        create_exampel(S-A)\n",
    "        create_ordering(top_action > possible_action)\n",
    "\n",
    "\n",
    "\n",
    "1. Collect traces\n",
    "\n",
    "2. Variabilise all traces\n",
    "\n",
    "3. Create tree of unique state to possible actions and assign value to each leaf of tree\n",
    "\n",
    "4. Create example for each variabilised unique state-action pair\n",
    "\n",
    "5. Create ordering for each top action per unique state against all other potential actions in unique state\n"
   ]
  },
  {
   "cell_type": "code",
   "execution_count": null,
   "metadata": {},
   "outputs": [],
   "source": [
    "\n",
    "\n",
    "from clyngor import ASP\n",
    "actions = ['initiate(rotate)', 'initiate(explore(10,42))', 'initiate(explore(0,10))', 'initiate(rotate)', 'initiate(interact(10))', 'initiate(interact(10))', 'initiate(explore(10,42))', 'initiate(interact(0))', 'initiate(explore(10,42))', 'initiate(rotate)', 'initiate(rotate)', 'initiate(explore(10,42))', 'initiate(explore(10,0))', 'initiate(interact(1))', 'initiate(explore(0,10))', 'initiate(interact(10))', 'initiate(rotate)', 'initiate(interact(1))', 'initiate(explore(10,42))', 'initiate(interact(0))', 'initiate(rotate)', 'initiate(interact(10))', 'initiate(rotate)', 'initiate(interact(10))', 'initiate(explore(10,0))', 'initiate(explore(0,10))', 'initiate(explore(10,0))', 'initiate(explore(10,0))', 'initiate(rotate)', 'initiate(explore(10,42))', 'initiate(explore(10,0))', 'initiate(rotate)', 'initiate(interact(0))', 'initiate(rotate)', 'initiate(explore(10,42))', 'initiate(interact(10))', 'initiate(rotate)', 'initiate(interact(10))', 'initiate(explore(10,42))', 'initiate(rotate)', 'initiate(explore(10,0))', 'initiate(explore(10,0))', 'initiate(explore(0,10))', 'initiate(explore(0,10))', 'initiate(rotate)', 'initiate(rotate)', 'initiate(rotate)', 'initiate(rotate)', 'initiate(rotate)', 'initiate(explore(10,42))', 'initiate(explore(10,0))', 'initiate(rotate)', 'initiate(interact(10))', 'initiate(rotate)', 'initiate(interact(10))', 'initiate(interact(10))', 'initiate(rotate)', 'initiate(interact(10))', 'initiate(explore(10,42))', 'initiate(explore(10,1))', 'initiate(rotate)', 'initiate(explore(10,42))', 'initiate(interact(10))', 'initiate(interact(0))', 'initiate(interact(10))', 'initiate(interact(10))', 'initiate(explore(10,42))', 'initiate(explore(10,0))', 'initiate(interact(10))', 'initiate(interact(10))', 'initiate(rotate)', 'initiate(explore(10,42))', 'initiate(explore(0,10))', 'initiate(interact(0))', 'initiate(rotate)', 'initiate(interact(10))', 'initiate(explore(0,10))', 'initiate(interact(0))', 'initiate(rotate)', 'initiate(rotate)', 'initiate(interact(10))', 'initiate(explore(10,42))', 'initiate(interact(0))', 'initiate(rotate)', 'initiate(interact(10))', 'initiate(rotate)', 'initiate(rotate)', 'initiate(explore(10,42))', 'initiate(interact(10))', 'initiate(rotate)', 'initiate(explore(10,42))', 'initiate(interact(0))', 'initiate(rotate)', 'initiate(rotate)', 'initiate(rotate)', 'initiate(rotate)', 'initiate(interact(10))', 'initiate(rotate)', 'initiate(explore(10,42))', 'initiate(explore(1,10))', 'initiate(rotate)', 'initiate(interact(10))', 'initiate(rotate)', 'initiate(interact(0))', 'initiate(rotate)', 'initiate(interact(10))', 'initiate(interact(0))', 'initiate(rotate)', 'initiate(interact(0))', 'initiate(interact(10))', 'initiate(rotate)', 'initiate(interact(10))', 'initiate(interact(10))', 'initiate(rotate)', 'initiate(interact(10))', 'initiate(rotate)', 'initiate(rotate)', 'initiate(rotate)', 'initiate(rotate)', 'initiate(interact(10))', 'initiate(rotate)', 'initiate(interact(10))', 'initiate(interact(10))', 'initiate(interact(0))', 'initiate(interact(10))', 'initiate(explore(10,42))', 'initiate(interact(10))', 'initiate(rotate)', 'initiate(interact(0))', 'initiate(rotate)', 'initiate(interact(0))', 'initiate(rotate)', 'initiate(explore(10,0))', 'initiate(rotate)', 'initiate(interact(10))', 'initiate(rotate)', 'initiate(rotate)', 'initiate(rotate)', 'initiate(rotate)', 'initiate(interact(10))', 'initiate(rotate)', 'initiate(interact(10))', 'initiate(rotate)', 'initiate(explore(10,42))', 'initiate(explore(0,10))', 'initiate(interact(10))', 'initiate(interact(10))', 'initiate(rotate)', 'initiate(interact(10))', 'initiate(interact(10))', 'initiate(rotate)', 'initiate(explore(10,42))', 'initiate(explore(10,0))', 'initiate(explore(10,0))', 'initiate(interact(1))', 'initiate(rotate)', 'initiate(interact(10))', 'initiate(interact(10))', 'initiate(explore(10,42))', 'initiate(explore(0,10))', 'initiate(interact(10))', 'initiate(interact(1))', 'initiate(interact(10))', 'initiate(rotate)', 'initiate(rotate)', 'initiate(explore(10,42))', 'initiate(interact(10))', 'initiate(rotate)', 'initiate(interact(0))', 'initiate(interact(0))', 'initiate(rotate)', 'initiate(interact(10))', 'initiate(rotate)', 'initiate(explore(10,42))', 'initiate(explore(1,10))', 'initiate(rotate)', 'initiate(explore(1,10))', 'initiate(explore(10,1))', 'initiate(rotate)', 'initiate(interact(10))', 'initiate(rotate)', 'initiate(rotate)', 'initiate(interact(0))', 'initiate(rotate)', 'initiate(rotate)', 'initiate(explore(10,42))', 'initiate(interact(10))', 'initiate(rotate)', 'initiate(interact(0))', 'initiate(rotate)', 'initiate(interact(0))', 'initiate(interact(10))', 'initiate(explore(10,42))', 'initiate(rotate)', 'initiate(explore(1,10))', 'initiate(interact(1))', 'initiate(rotate)', 'initiate(explore(10,42))', 'initiate(interact(0))', 'initiate(rotate)', 'initiate(interact(10))', 'initiate(rotate)', 'initiate(interact(10))', 'initiate(explore(10,42))', 'initiate(explore(10,0))', 'initiate(rotate)', 'initiate(rotate)', 'initiate(interact(10))']\n",
    "states = ['goal(42).\\n', 'visible(10).\\nwall(10).\\ngoal(42).\\n', 'visible(0).\\nvisible(10).\\nwall(10).\\ngoal(0).\\n', 'visible(0).\\nvisible(10).\\nwall(10).\\ngoal(0).\\n', 'visible(0).\\nvisible(10).\\nwall(10).\\ngoal(0).\\n', 'visible(10).\\nwall(10).\\ngoal(42).\\n', 'visible(10).\\nwall(10).\\ngoal(42).\\n', 'visible(0).\\nvisible(10).\\nwall(10).\\ngoal(0).\\n', 'visible(10).\\nwall(10).\\ngoal(42).\\n', 'visible(0).\\nvisible(10).\\nwall(10).\\ngoal(0).\\n', 'goal(42).\\n', 'visible(10).\\nwall(10).\\ngoal(42).\\n', 'visible(0).\\nvisible(10).\\nwall(10).\\ngoal(0).\\n', 'visible(1).\\ngoal(1).\\n', 'visible(0).\\nvisible(10).\\nwall(10).\\ngoal(0).\\n', 'visible(0).\\nvisible(10).\\nwall(10).\\ngoal(0).\\n', 'goal(42).\\n', 'visible(1).\\ngoal(1).\\n', 'visible(10).\\nwall(10).\\ngoal(42).\\n', 'visible(0).\\ngoal(0).\\n', 'goal(42).\\n', 'visible(10).\\nwall(10).\\ngoal(42).\\n', 'goal(42).\\n', 'visible(10).\\nwall(10).\\ngoal(42).\\n', 'visible(0).\\nvisible(10).\\nwall(10).\\ngoal(0).\\n', 'visible(0).\\nvisible(10).\\nwall(10).\\ngoal(0).\\n', 'visible(0).\\nvisible(10).\\nwall(10).\\ngoal(0).\\n', 'visible(0).\\nvisible(10).\\nwall(10).\\ngoal(0).\\n', 'visible(0).\\nvisible(10).\\nwall(10).\\ngoal(0).\\n', 'visible(10).\\nwall(10).\\ngoal(42).\\n', 'visible(0).\\nvisible(10).\\nwall(10).\\ngoal(0).\\n', 'goal(42).\\n', 'visible(0).\\ngoal(0).\\n', 'goal(42).\\n', 'visible(10).\\nwall(10).\\ngoal(42).\\n', 'visible(0).\\nvisible(10).\\nwall(10).\\ngoal(0).\\n', 'visible(10).\\nwall(10).\\ngoal(42).\\n', 'visible(10).\\nwall(10).\\ngoal(42).\\n', 'visible(10).\\nwall(10).\\ngoal(42).\\n', 'visible(0).\\nvisible(10).\\nwall(10).\\ngoal(0).\\n', 'visible(0).\\nvisible(10).\\nwall(10).\\ngoal(0).\\n', 'visible(0).\\nvisible(10).\\nwall(10).\\ngoal(0).\\n', 'visible(0).\\nvisible(10).\\nwall(10).\\ngoal(0).\\n', 'visible(0).\\nvisible(10).\\nwall(10).\\ngoal(0).\\n', 'visible(0).\\nvisible(10).\\nwall(10).\\ngoal(0).\\n', 'visible(0).\\ngoal(0).\\n', 'visible(0).\\ngoal(0).\\n', 'visible(0).\\ngoal(0).\\n', 'goal(42).\\n', 'visible(10).\\nwall(10).\\ngoal(42).\\n', 'visible(0).\\nvisible(10).\\nwall(10).\\ngoal(0).\\n', 'visible(1).\\ngoal(1).\\n', 'visible(1).\\nvisible(10).\\nwall(10).\\ngoal(1).\\n', 'goal(42).\\n', 'visible(10).\\nwall(10).\\ngoal(42).\\n', 'visible(10).\\nwall(10).\\ngoal(42).\\n', 'visible(0).\\nvisible(10).\\nwall(10).\\ngoal(0).\\n', 'visible(10).\\nwall(10).\\ngoal(42).\\n', 'visible(10).\\nwall(10).\\ngoal(42).\\n', 'visible(1).\\nvisible(10).\\nwall(10).\\ngoal(1).\\n', 'goal(42).\\n', 'visible(10).\\nwall(10).\\ngoal(42).\\n', 'visible(0).\\nvisible(10).\\nwall(10).\\ngoal(0).\\n', 'visible(0).\\nvisible(10).\\nwall(10).\\ngoal(0).\\n', 'visible(10).\\nwall(10).\\ngoal(42).\\n', 'visible(10).\\nwall(10).\\ngoal(42).\\n', 'visible(10).\\nwall(10).\\ngoal(42).\\n', 'visible(0).\\nvisible(10).\\nwall(10).\\ngoal(0).\\n', 'visible(0).\\nvisible(10).\\nwall(10).\\ngoal(0).\\n', 'visible(10).\\nwall(10).\\ngoal(42).\\n', 'goal(42).\\n', 'visible(10).\\nwall(10).\\ngoal(42).\\n', 'visible(0).\\nvisible(10).\\nwall(10).\\ngoal(0).\\n', 'visible(0).\\nvisible(10).\\nwall(10).\\ngoal(0).\\n', 'visible(10).\\nwall(10).\\ngoal(42).\\n', 'visible(10).\\nwall(10).\\ngoal(42).\\n', 'visible(0).\\nvisible(10).\\nwall(10).\\ngoal(0).\\n', 'visible(0).\\nvisible(10).\\nwall(10).\\ngoal(0).\\n', 'goal(42).\\n', 'visible(10).\\nwall(10).\\ngoal(42).\\n', 'visible(10).\\nwall(10).\\ngoal(42).\\n', 'visible(10).\\nwall(10).\\ngoal(42).\\n', 'visible(0).\\ngoal(0).\\n', 'goal(42).\\n', 'visible(10).\\nwall(10).\\ngoal(42).\\n', 'goal(42).\\n', 'visible(10).\\nwall(10).\\ngoal(42).\\n', 'visible(10).\\nwall(10).\\ngoal(42).\\n', 'visible(1).\\nvisible(10).\\nwall(10).\\ngoal(1).\\n', 'goal(42).\\n', 'visible(10).\\nwall(10).\\ngoal(42).\\n', 'visible(0).\\nvisible(10).\\nwall(10).\\ngoal(0).\\n', 'goal(42).\\n', 'visible(10).\\nwall(10).\\ngoal(42).\\n', 'visible(10).\\nwall(10).\\ngoal(42).\\n', 'visible(10).\\nwall(10).\\ngoal(42).\\n', 'visible(10).\\nwall(10).\\ngoal(42).\\n', 'visible(10).\\nwall(10).\\ngoal(42).\\n', 'visible(10).\\nwall(10).\\ngoal(42).\\n', 'visible(1).\\nvisible(10).\\nwall(10).\\ngoal(1).\\n', 'visible(1).\\nvisible(10).\\nwall(10).\\ngoal(1).\\n', 'visible(1).\\nvisible(10).\\nwall(10).\\ngoal(1).\\n', 'goal(42).\\n', 'visible(0).\\ngoal(0).\\n', 'goal(42).\\n', 'visible(10).\\nwall(10).\\ngoal(42).\\n', 'visible(0).\\nvisible(10).\\nwall(10).\\ngoal(0).\\n', 'goal(42).\\n', 'visible(0).\\nvisible(10).\\nwall(10).\\ngoal(0).\\n', 'visible(10).\\nwall(10).\\ngoal(42).\\n', 'goal(42).\\n', 'visible(10).\\nwall(10).\\ngoal(42).\\n', 'visible(10).\\nwall(10).\\ngoal(42).\\n', 'visible(10).\\nwall(10).\\ngoal(42).\\n', 'visible(10).\\nwall(10).\\ngoal(42).\\n', 'visible(10).\\nwall(10).\\ngoal(42).\\n', 'visible(10).\\nwall(10).\\ngoal(42).\\n', 'visible(10).\\nwall(10).\\ngoal(42).\\n', 'visible(10).\\nwall(10).\\ngoal(42).\\n', 'visible(10).\\nwall(10).\\ngoal(42).\\n', 'goal(42).\\n', 'visible(10).\\nwall(10).\\ngoal(42).\\n', 'visible(10).\\nwall(10).\\ngoal(42).\\n', 'visible(0).\\nvisible(10).\\nwall(10).\\ngoal(0).\\n', 'visible(0).\\nvisible(10).\\nwall(10).\\ngoal(0).\\n', 'visible(10).\\nwall(10).\\ngoal(42).\\n', 'visible(1).\\nvisible(10).\\nwall(10).\\ngoal(1).\\n', 'goal(42).\\n', 'visible(0).\\nvisible(10).\\nwall(10).\\ngoal(0).\\n', 'visible(0).\\ngoal(0).\\n', 'visible(0).\\ngoal(0).\\n', 'visible(10).\\nwall(10).\\ngoal(42).\\n', 'visible(0).\\nvisible(10).\\nwall(10).\\ngoal(0).\\n', 'visible(0).\\nvisible(10).\\nwall(10).\\ngoal(0).\\n', 'visible(0).\\nvisible(10).\\nwall(10).\\ngoal(0).\\n', 'visible(1).\\ngoal(1).\\n', 'visible(1).\\ngoal(1).\\n', 'visible(1).\\ngoal(1).\\n', 'goal(42).\\n', 'visible(10).\\nwall(10).\\ngoal(42).\\n', 'goal(42).\\n', 'visible(10).\\nwall(10).\\ngoal(42).\\n', 'visible(10).\\nwall(10).\\ngoal(42).\\n', 'visible(10).\\nwall(10).\\ngoal(42).\\n', 'visible(0).\\nvisible(10).\\nwall(10).\\ngoal(0).\\n', 'visible(0).\\nvisible(10).\\nwall(10).\\ngoal(0).\\n', 'visible(0).\\nvisible(10).\\nwall(10).\\ngoal(0).\\n', 'visible(10).\\nwall(10).\\ngoal(42).\\n', 'visible(10).\\nwall(10).\\ngoal(42).\\n', 'visible(10).\\nwall(10).\\ngoal(42).\\n', 'visible(10).\\nwall(10).\\ngoal(42).\\n', 'visible(10).\\nwall(10).\\ngoal(42).\\n', 'visible(0).\\nvisible(10).\\nwall(10).\\ngoal(0).\\n', 'visible(0).\\nvisible(10).\\nwall(10).\\ngoal(0).\\n', 'visible(1).\\nvisible(10).\\nwall(10).\\ngoal(1).\\n', 'goal(42).\\n', 'visible(0).\\nvisible(10).\\nwall(10).\\ngoal(0).\\n', 'visible(10).\\nwall(10).\\ngoal(42).\\n', 'visible(10).\\nwall(10).\\ngoal(42).\\n', 'visible(0).\\nvisible(10).\\nwall(10).\\ngoal(0).\\n', 'visible(0).\\nvisible(10).\\nwall(10).\\ngoal(0).\\n', 'visible(1).\\ngoal(1).\\n', 'visible(10).\\nwall(10).\\ngoal(42).\\n', 'visible(10).\\nwall(10).\\ngoal(42).\\n', 'visible(10).\\nwall(10).\\ngoal(42).\\n', 'visible(10).\\nwall(10).\\ngoal(42).\\n', 'visible(0).\\nvisible(10).\\nwall(10).\\ngoal(0).\\n', 'goal(42).\\n', 'visible(0).\\ngoal(0).\\n', 'visible(0).\\ngoal(0).\\n', 'visible(10).\\nwall(10).\\ngoal(42).\\n', 'visible(10).\\nwall(10).\\ngoal(42).\\n', 'goal(42).\\n', 'visible(10).\\nwall(10).\\ngoal(42).\\n', 'visible(1).\\nvisible(10).\\nwall(10).\\ngoal(1).\\n', 'visible(1).\\nvisible(10).\\nwall(10).\\ngoal(1).\\n', 'visible(1).\\nvisible(10).\\nwall(10).\\ngoal(1).\\n', 'visible(1).\\nvisible(10).\\nwall(10).\\ngoal(1).\\n', 'visible(1).\\nvisible(10).\\nwall(10).\\ngoal(1).\\n', 'visible(1).\\nvisible(10).\\nwall(10).\\ngoal(1).\\n', 'goal(42).\\n', 'visible(0).\\ngoal(0).\\n', 'visible(0).\\ngoal(0).\\n', 'goal(42).\\n', 'visible(10).\\nwall(10).\\ngoal(42).\\n', 'visible(10).\\nwall(10).\\ngoal(42).\\n', 'visible(0).\\nvisible(10).\\nwall(10).\\ngoal(0).\\n', 'goal(42).\\n', 'visible(0).\\ngoal(0).\\n', 'goal(42).\\n', 'visible(0).\\ngoal(0).\\n', 'visible(0).\\nvisible(10).\\nwall(10).\\ngoal(0).\\n', 'visible(10).\\nwall(10).\\ngoal(42).\\n', 'visible(1).\\nvisible(10).\\nwall(10).\\ngoal(1).\\n', 'visible(1).\\nvisible(10).\\nwall(10).\\ngoal(1).\\n', 'visible(1).\\nvisible(10).\\nwall(10).\\ngoal(1).\\n', 'goal(42).\\n', 'visible(10).\\nwall(10).\\ngoal(42).\\n', 'visible(0).\\nvisible(10).\\nwall(10).\\ngoal(0).\\n', 'visible(10).\\nwall(10).\\ngoal(42).\\n', 'visible(10).\\nwall(10).\\ngoal(42).\\n', 'visible(10).\\nwall(10).\\ngoal(42).\\n', 'visible(10).\\nwall(10).\\ngoal(42).\\n', 'visible(10).\\nwall(10).\\ngoal(42).\\n', 'visible(0).\\nvisible(10).\\nwall(10).\\ngoal(0).\\n', 'visible(1).\\nvisible(10).\\nwall(10).\\ngoal(1).\\n', 'goal(42).\\n', 'visible(10).\\nwall(10).\\ngoal(42).\\n']\n",
    "values = [-5.9049000000000005, -6.561, -7.290000000000001, -8.100000000000001, -9.0, -10.0, 9.0, 10.0, 5.9049000000000005, 6.561, 7.290000000000001, 8.100000000000001, 9.0, 10.0, 7.290000000000001, 8.100000000000001, 9.0, 10.0, 9.0, 10.0, 9.0, 10.0, -4.304672100000001, -4.7829690000000005, -5.3144100000000005, -5.9049000000000005, -6.561, -7.290000000000001, -8.100000000000001, -9.0, -10.0, 9.0, 10.0, -6.561, -7.290000000000001, -8.100000000000001, -9.0, -10.0, -2.287679245496101, -2.5418658283290005, -2.824295364810001, -3.138105960900001, -3.486784401000001, -3.874204890000001, -4.304672100000001, -4.7829690000000005, -5.3144100000000005, -5.9049000000000005, -6.561, -7.290000000000001, -8.100000000000001, -9.0, -10.0, -8.100000000000001, -9.0, -10.0, -7.290000000000001, -8.100000000000001, -9.0, -10.0, -7.290000000000001, -8.100000000000001, -9.0, -10.0, -9.0, -10.0, -7.290000000000001, -8.100000000000001, -9.0, -10.0, 7.290000000000001, 8.100000000000001, 9.0, 10.0, 7.290000000000001, 8.100000000000001, 9.0, 10.0, -7.290000000000001, -8.100000000000001, -9.0, -10.0, 10.0, -5.9049000000000005, -6.561, -7.290000000000001, -8.100000000000001, -9.0, -10.0, 8.100000000000001, 9.0, 10.0, -3.874204890000001, -4.304672100000001, -4.7829690000000005, -5.3144100000000005, -5.9049000000000005, -6.561, -7.290000000000001, -8.100000000000001, -9.0, -10.0, 9.0, 10.0, 8.100000000000001, 9.0, 10.0, -8.100000000000001, -9.0, -10.0, -8.100000000000001, -9.0, -10.0, -5.3144100000000005, -5.9049000000000005, -6.561, -7.290000000000001, -8.100000000000001, -9.0, -10.0, -8.100000000000001, -9.0, -10.0, 10.0, -8.100000000000001, -9.0, -10.0, 9.0, 10.0, 9.0, 10.0, -4.304672100000001, -4.7829690000000005, -5.3144100000000005, -5.9049000000000005, -6.561, -7.290000000000001, -8.100000000000001, -9.0, -10.0, -5.9049000000000005, -6.561, -7.290000000000001, -8.100000000000001, -9.0, -10.0, -8.100000000000001, -9.0, -10.0, -5.9049000000000005, -6.561, -7.290000000000001, -8.100000000000001, -9.0, -10.0, -8.100000000000001, -9.0, -10.0, 7.290000000000001, 8.100000000000001, 9.0, 10.0, -6.561, -7.290000000000001, -8.100000000000001, -9.0, -10.0, 9.0, 10.0, 10.0, -3.874204890000001, -4.304672100000001, -4.7829690000000005, -5.3144100000000005, -5.9049000000000005, -6.561, -7.290000000000001, -8.100000000000001, -9.0, -10.0, 8.100000000000001, 9.0, 10.0, -7.290000000000001, -8.100000000000001, -9.0, -10.0, 9.0, 10.0, 9.0, 10.0, -6.561, -7.290000000000001, -8.100000000000001, -9.0, -10.0, 8.100000000000001, 9.0, 10.0, -7.290000000000001, -8.100000000000001, -9.0, -10.0, -6.561, -7.290000000000001, -8.100000000000001, -9.0, -10.0]\n",
    "def variabilise(lp):\n",
    "    letters = ['a', 'b', 'c', 'd', 'e', 'f', 'g', 'h']\n",
    "    p = parse_args(lp)\n",
    "    # Reduce nested functions\n",
    "    y = [i[1][0]  if (isinstance(i[1][0], tuple)) else i for i in p]\n",
    "    # Create unique var map\n",
    "    var_map = {}\n",
    "    for lit in y:\n",
    "        for arg in lit[1]:\n",
    "            if (arg not in var_map)&isinstance(arg, int):\n",
    "                var_map[arg] = letters.pop(0)\n",
    "    # Sort vars by largest so smaller ones aren't replacing bigger numbers\n",
    "    order = sorted(var_map, reverse=True)\n",
    "    # Update lp\n",
    "    for var in order:\n",
    "        lp = lp.replace(str(var), var_map[var])\n",
    "\n",
    "    return lp\n",
    "parse_args = lambda x: list(list(ASP(x).sorted)[0])\n",
    "import operator"
   ]
  },
  {
   "cell_type": "code",
   "execution_count": null,
   "metadata": {
    "scrolled": true
   },
   "outputs": [],
   "source": [
    "pairs = [variabilise(s+f\"{a}.\") for s,a in zip(states,actions)]\n",
    "unique_pairs = list(set(pairs))\n",
    "var_states = [variabilise(s) for s in states]\n",
    "unique_states = list(set(var_states))\n",
    "pairs = [[unique_pairs.index(p),unique_states.index(s)] for s,p in zip(var_states, pairs)]\n",
    "\n",
    "tree = {s: {} for s in range(len(unique_states))}\n",
    "for c, p in enumerate(pairs):\n",
    "    if p[0] in tree[p[1]]:\n",
    "        tree[p[1]][p[0]].append(c)\n",
    "    else:\n",
    "        tree[p[1]][p[0]] = [c]\n",
    "\n",
    "examples = \"\"\n",
    "order = \"\"\n",
    "e_c = 0\n",
    "o_c = 0\n",
    "# Rolling average for each action\n"
   ]
  },
  {
   "cell_type": "code",
   "execution_count": null,
   "metadata": {
    "collapsed": true
   },
   "outputs": [],
   "source": [
    "for s,d in tree.items():\n",
    "    if len(d)==1:\n",
    "        continue\n",
    "    for a,v in d.items():\n",
    "        tree[s][a] = sum(values[i] for i in v)/len(v)\n",
    "\n",
    "    ranking = sorted(tree[s].items(), key=operator.itemgetter(1), reverse=True)\n",
    "    top_action = e_c\n",
    "    for c, i in enumerate(ranking):\n",
    "        action, val = i\n",
    "        examples += f\"#pos(a{e_c},\\n{{}},\\n{{}},\\n{{{unique_pairs[action]}}}).\\n%%Value was:{val}\\n\"\n",
    "        if c!=0:\n",
    "            order+= f\"#brave_ordering(b{o_c}@10, a{top_action}, a{e_c}).\\n\"\n",
    "            o_c +=1\n",
    "        e_c +=1"
   ]
  },
  {
   "cell_type": "code",
   "execution_count": null,
   "metadata": {},
   "outputs": [],
   "source": [
    "print(examples+order)"
   ]
  },
  {
   "cell_type": "code",
   "execution_count": null,
   "metadata": {
    "scrolled": true
   },
   "outputs": [],
   "source": [
    "pairi = [s+f\"{a}.\" for s,a in zip(states,actions)]\n",
    "\n",
    "foo = [pairi[c] for c, i in enumerate(pairo) if i.startswith(\"visible(b).\\nvisible(a).\")]\n",
    "foo"
   ]
  },
  {
   "cell_type": "code",
   "execution_count": null,
   "metadata": {},
   "outputs": [],
   "source": [
    "parse_args = lambda x: list(list(ASP(x).sorted)[0])\n",
    "\n",
    "def variabilise(lp):\n",
    "    letters = ['a', 'b', 'c', 'd', 'e', 'f', 'g', 'h']\n",
    "    p = parse_args(lp)\n",
    "    # Reduce nested functions\n",
    "    print(p)\n",
    "    y = [i[1][0]  if (isinstance(i[1][0], tuple)) else i for i in p]\n",
    "    # Create unique var map\n",
    "    var_map = {}\n",
    "    for lit in y:\n",
    "        for arg in lit[1]:\n",
    "            if (arg not in var_map)&isinstance(arg, int):\n",
    "                var_map[arg] = letters.pop(0)\n",
    "    # Sort vars by largest so smaller ones aren't replacing bigger numbers\n",
    "    order = sorted(var_map, reverse=True)\n",
    "    # Update lp\n",
    "    for var in order:\n",
    "        lp = lp.replace(str(var), var_map[var])\n",
    "\n",
    "    return lp\n",
    "[variabilise(i) for i in foo[:4]]"
   ]
  },
  {
   "cell_type": "code",
   "execution_count": null,
   "metadata": {},
   "outputs": [],
   "source": [
    "sorted({1:'a', 2:'b', 3:'c', 10:'d', 0:'e'}, reverse=True)"
   ]
  },
  {
   "cell_type": "code",
   "execution_count": null,
   "metadata": {
    "collapsed": true
   },
   "outputs": [],
   "source": [
    "actions"
   ]
  },
  {
   "cell_type": "code",
   "execution_count": null,
   "metadata": {
    "collapsed": true
   },
   "outputs": [],
   "source": [
    "Successes: 9\n",
    "NEW RULES LEARNED: :~ initiate(interact(V1)).[1@1, V1]\n",
    ":~ initiate(explore(V1,V2)).[1@2, V1, V2]\n",
    ":~ goal(V1), initiate(explore(V1,V2)).[-1@3, V1, V2]\n",
    "\n",
    "\n",
    "Successes: 22\n",
    "NEW RULES LEARNED: :~ initiate(interact(V1)).[1@2, V1]\n",
    ":~ goal(V1), initiate(explore(V1,V2)).[1@1, V1, V2]\n",
    ":~ goal(V1), not initiate(interact(V1)), not initiate(rotate).[1@3, V1]\n",
    "\n",
    "\n",
    "Successes: 27\n",
    "NEW RULES LEARNED: :~ initiate(interact(V1)).[1@2, V1]\n",
    ":~ goal(V1), initiate(explore(V1,V2)).[1@1, V1, V2]\n",
    ":~ goal(V1), not initiate(interact(V1)), not initiate(rotate).[1@3, V1]\n",
    "\n",
    "\n",
    "Final results: 33/120 episodes were completed successfully"
   ]
  },
  {
   "cell_type": "code",
   "execution_count": null,
   "metadata": {
    "collapsed": true
   },
   "outputs": [],
   "source": []
  },
  {
   "cell_type": "code",
   "execution_count": null,
   "metadata": {
    "collapsed": true,
    "scrolled": false
   },
   "outputs": [],
   "source": [
    "import time\n",
    "results = {}\n",
    "for i in range(10):\n",
    "    start = time.time()\n",
    "    margs = namedtuple('args', 'seed env arena_config num_episodes inference')\n",
    "    args = margs(env=env_path, seed =i, arena_config=ac, num_episodes=90, inference=False)\n",
    "    pipe = Pipeline(args)\n",
    "    results[i] = pipe.learn_run()\n",
    "    end = time.time()\n"
   ]
  },
  {
   "cell_type": "code",
   "execution_count": null,
   "metadata": {
    "collapsed": true
   },
   "outputs": [],
   "source": [
    "from clyngor import ASP\n",
    "letters = ['a', 'b', 'c', 'd', 'e', 'f', 'g', 'h']\n",
    "parse_args = lambda x: list(list(ASP(x).parse_args)[0])\n",
    "x = \"\"\"\n",
    "initiate(explore(10,42)).\n",
    "visible(5).\n",
    "wall(5).\n",
    "goal(1).\n",
    "\"\"\"\n",
    "y = parse_args(x)\n",
    "y = [i[1][0]  if isinstance(i[1][0], tuple) else i for i in y] \n",
    "unique_vars = {}\n",
    "for lit in y:\n",
    "    for arg in lit[1]:\n",
    "        if arg not in unique_vars:\n",
    "            unique_vars[arg] = letters.pop(0)\n",
    "order = sorted(unique_vars, reverse=True)\n",
    "res = x\n",
    "for var in order:\n",
    "    res = res.replace(str(var), unique_vars[var])\n",
    "print(res)"
   ]
  },
  {
   "cell_type": "code",
   "execution_count": null,
   "metadata": {
    "collapsed": true
   },
   "outputs": [],
   "source": [
    "x = \"\"\"\n",
    "    initiate(interact(10, 1, 42)).\n",
    "    initiate(rotate).\n",
    "    wall(10).\n",
    "    goal(42).\n",
    "    visible(10).\n",
    "    \"\"\"\n",
    "letters = ['a', 'b', 'c', 'd', 'e', 'f', 'g', 'h']\n",
    "parse_args = lambda x: list(list(ASP(x).parse_args)[0])\n",
    "macro_actions = {\n",
    "    \"explore\":3,\n",
    "    \"interact\":1,\n",
    "    \"rotate\":0\n",
    "}\n",
    "def variabilise(lp):\n",
    "    p = parse_args(lp)\n",
    "    # Reduce nested functions\n",
    "    y = [i[1][0]  if (isinstance(i[1][0], tuple)) else i for i in p]\n",
    "    # Create unique var map\n",
    "    var_map = {}\n",
    "    for lit in y:\n",
    "        for arg in lit[1]:\n",
    "            if (arg not in var_map)&isinstance(arg, int):\n",
    "                var_map[arg] = letters.pop(0)\n",
    "    # Sort vars by largest so smaller ones aren't replacing bigger numbers\n",
    "    order = sorted(var_map, reverse=True)\n",
    "    # Update lp\n",
    "    for var in order:\n",
    "        lp = lp.replace(str(var), var_map[var])\n",
    "    return lp\n",
    "print(variabilise(x))"
   ]
  },
  {
   "cell_type": "raw",
   "metadata": {},
   "source": [
    "Success num: 22\n",
    "NEW RULES LEARNED: :~ initiate(interact(V1)).[1@1, V1]\n",
    ":~ initiate(explore(V1,V2)), visible(V1).[-1@2, V1, V2]\n",
    ":~ goal(V1), initiate(interact(V1)), visible(V1).[-1@3, V1]\n",
    "\n",
    "\n",
    "Success num: 47\n",
    "NEW RULES LEARNED: :~ initiate(interact(V1)).[1@1, V1]\n",
    ":~ initiate(explore(V1,V2)), visible(V1).[-1@2, V1, V2]\n",
    ":~ goal(V1), initiate(interact(V1)), visible(V1).[-1@3, V1]\n",
    "\n",
    "\n",
    "Final results: 73/105 episodes were completed successfully"
   ]
  }
 ],
 "metadata": {
  "kernelspec": {
   "display_name": "animalaienv",
   "language": "python",
   "name": "animalaienv"
  },
  "language_info": {
   "codemirror_mode": {
    "name": "ipython",
    "version": 3
   },
   "file_extension": ".py",
   "mimetype": "text/x-python",
   "name": "python",
   "nbconvert_exporter": "python",
   "pygments_lexer": "ipython3",
   "version": "3.6.2"
  }
 },
 "nbformat": 4,
 "nbformat_minor": 2
}
