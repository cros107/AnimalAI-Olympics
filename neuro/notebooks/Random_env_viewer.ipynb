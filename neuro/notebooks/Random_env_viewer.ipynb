{
 "cells": [
  {
   "cell_type": "code",
   "execution_count": null,
   "metadata": {
    "scrolled": true
   },
   "outputs": [],
   "source": [
    "import os\n",
    "import sys\n",
    "# os.chdir('/Users/ludo/Desktop/animalai/animalai')\n",
    "sys.path.insert(0, \"/Users/ludo/Desktop/animalai/animalai/animalai_train\")\n",
    "sys.path.insert(1, \"/Users/ludo/Desktop/animalai/animalai/animalai\")\n",
    "from animalai.envs.gym.environment import AnimalAIGym\n",
    "import random\n",
    "from animalai.envs.arena_config import ArenaConfig\n",
    "\n",
    "import yaml\n",
    "import copy\n",
    "import numpy as np\n",
    "import pandas as pd\n",
    "from matplotlib import pyplot as plt\n",
    "\n",
    "\n",
    "# CONFIG\n",
    "env_path = '../../env/aaiagain'\n",
    "worker_id = 3\n",
    "#random.randint(1, 100)\n",
    "# competition_envs = os.listdir('../competition_configurations/')\n",
    "\n",
    "seed = 1\n",
    "\n",
    "\n",
    "# yaml_path = '../examples/rand_env.yml'\n",
    "# ac = ArenaConfig(yaml_path)\n",
    "# arena_path = \"../../competition_configurations/5-10-3.yml\" #'configurations/curriculum/0.yaml'\n",
    "# arena_path = '../../competition_configurations/9-5-1.yml'\n",
    "arena_path = 'test.yml'\n",
    "# arena_path = '../configurations/ramps/0.yml'\n",
    "\n",
    "# ac = ArenaConfig(arena_path)\n",
    "# ac.arenas[1] = copy.deepcopy(ac.arenas[0])\n",
    "# yaml_path = 'configurations/curriculum4/19.yml'\n",
    "ac = ArenaConfig(arena_path)\n",
    "env = AnimalAIGym(environment_filename=env_path,\n",
    "              worker_id=worker_id,\n",
    "              n_arenas=1,\n",
    "              arenas_configurations=ac,\n",
    "                use_visual=False,\n",
    "                seed=seed,\n",
    "                 grayscale=False,\n",
    "                 resolution=1000)\n",
    "\n",
    "x = env.step([[0,0]])"
   ]
  },
  {
   "cell_type": "code",
   "execution_count": null,
   "metadata": {},
   "outputs": [],
   "source": [
    "x = env.reset()\n",
    "plt.imshow(env.render())"
   ]
  },
  {
   "cell_type": "code",
   "execution_count": null,
   "metadata": {},
   "outputs": [],
   "source": [
    "\n",
    "for i in range(10):\n",
    "    env.step([[0,0]])\n",
    "    plt.imshow(env.render())"
   ]
  },
  {
   "cell_type": "code",
   "execution_count": null,
   "metadata": {},
   "outputs": [],
   "source": [
    "from animalai.envs.ramp_creator import run as rc\n",
    "# print(rc()[0].replace('\\t', ''))\n",
    "# from collections import namedtuple as nt\n",
    "# from random import randrange, choice\n",
    "# def make_obj(pos=False, size=False, name=False, rot=False):\n",
    "#     res =  f\"\"\"\n",
    "#     - !Item\n",
    "#       name: {name}\"\"\"\n",
    "#     if pos:\n",
    "#         res +=f\"\"\"\n",
    "#       positions:\n",
    "#       - !Vector3 {{x: {pos.x} , y: {pos.y}, z: {pos.z}}}\"\"\"\n",
    "#     if size:\n",
    "#         res +=f\"\"\"\n",
    "#       sizes:\n",
    "#       - !Vector3 {{x: {size.x}, y: {size.y}, z: {size.z}}}\"\"\"\n",
    "#     if rot:\n",
    "#         res += f\"\"\"\n",
    "#       rotations: [{rot}]\"\"\"\n",
    "#     return res\n",
    "\n",
    "\n",
    "# def run():\n",
    "#     vector = nt('vec', ['x', 'y', 'z'])\n",
    "#     # agent_p = vector(randrange(1,39), 0 , randrange(1,39), randrange(1,39))\n",
    "#     ramp_p = vector(randrange(10,30),0, randrange(10,30))\n",
    "#     ramp_width = randrange(2,ramp_p.x)\n",
    "#     ramp_length = randrange(2,ramp_p.z)\n",
    "#     ramp_height = randrange(2,max(int(ramp_length*(3/5)),3))\n",
    "#     ramp_s = vector(ramp_width, ramp_height, ramp_length)\n",
    "#     rot = 180\n",
    "\n",
    "\n",
    "#     wall_p = vector(ramp_p.x, 0, 1.5 + ramp_p.z+ramp_s.z/2)\n",
    "#     wall_s = vector(ramp_width, ramp_s.y, 3)\n",
    "#     goodgoal_p = vector(wall_p.x, 7, wall_p.z)\n",
    "#     goodgoal_s = vector(3,3,3)\n",
    "#     base = \"\"\"\n",
    "# !ArenaConfig\n",
    "# arenas:\n",
    "#   0: !Arena\n",
    "#     pass_mark: 2\n",
    "#     t: 250\n",
    "#     items:\"\"\"\n",
    "#     for obj in ['Agent', 'Ramp', 'Wall']:\n",
    "#         inp = {\"name\":obj}\n",
    "#         if obj.lower()+'_p' in locals():\n",
    "#             inp['pos'] = locals()[obj.lower()+'_p']\n",
    "#         if obj.lower()+'_s' in locals():\n",
    "#             inp['size'] = locals()[obj.lower()+'_s']\n",
    "#         if obj not in ['Agent', 'GoodGoal']:\n",
    "#             inp['rot'] = rot\n",
    "#         base+=make_obj(**inp)\n",
    "\n",
    "#     for i in range(int(ramp_width/2)):\n",
    "#         inp = {\n",
    "#             \"name\": \"GoodGoal\",\n",
    "#             \"pos\": vector(wall_p.x-wall_s.x/2+2*i, 7, wall_p.z),\n",
    "#             \"size\": vector(2,2,2)\n",
    "#         }\n",
    "#         base+=make_obj(**inp)\n",
    "#     return [base]\n",
    "yaml.load(rc()[0], Loader=yaml.Loader)\n"
   ]
  },
  {
   "cell_type": "code",
   "execution_count": null,
   "metadata": {
    "collapsed": true
   },
   "outputs": [],
   "source": [
    "base = \"\"\"!ArenaConfig\n",
    "arenas:\n",
    "  0: !Arena\n",
    "    pass_mark: 2\n",
    "    t: 250\n",
    "    items:\n",
    "    - !Item\n",
    "      name: Agent\n",
    "    - !Item\n",
    "      name: Ramp\n",
    "      positions:\n",
    "      - !Vector3 {x: 15 , y: 0, z: 12}\n",
    "      sizes:\n",
    "      - !Vector3 {x: 8, y: 2, z: 7}\n",
    "      rotations: [180]\n",
    "    - !Item\n",
    "      name: Wall\n",
    "      positions:\n",
    "      - !Vector3 {x: 15 , y: 0, z: 17.0}\n",
    "      sizes:\n",
    "      - !Vector3 {x: 8, y: 2, z: 3}\n",
    "      rotations: [180]\n",
    "    - !Item\n",
    "      name: GoodGoal\n",
    "      positions:\n",
    "      - !Vector3 {x: 11.0 , y: 7, z: 17.0}\n",
    "      sizes:\n",
    "      - !Vector3 {x: 2, y: 2, z: 2}\n",
    "    - !Item\n",
    "      name: GoodGoal\n",
    "      positions:\n",
    "      - !Vector3 {x: 13.0 , y: 7, z: 17.0}\n",
    "      sizes:\n",
    "      - !Vector3 {x: 2, y: 2, z: 2}\n",
    "    - !Item\n",
    "      name: GoodGoal\n",
    "      positions:\n",
    "      - !Vector3 {x: 15.0 , y: 7, z: 17.0}\n",
    "      sizes:\n",
    "      - !Vector3 {x: 2, y: 2, z: 2}\n",
    "    - !Item\n",
    "      name: GoodGoal\n",
    "      positions:\n",
    "      - !Vector3 {x: 17.0 , y: 7, z: 17.0}\n",
    "      sizes:\n",
    "      - !Vector3 {x: 2, y: 2, z: 2}\"\"\""
   ]
  },
  {
   "cell_type": "code",
   "execution_count": null,
   "metadata": {},
   "outputs": [],
   "source": [
    "base"
   ]
  },
  {
   "cell_type": "code",
   "execution_count": null,
   "metadata": {},
   "outputs": [],
   "source": [
    "import yaml\n",
    "# yaml.load(open(arena_path, \"r\"), Loader=yaml.Loader).arenas\n",
    "x = yaml.load(base, Loader=yaml.Loader)\n",
    "# ArenaConfig([base])\n",
    "x"
   ]
  },
  {
   "cell_type": "code",
   "execution_count": null,
   "metadata": {},
   "outputs": [],
   "source": [
    "env.reset()\n",
    "for i in range(30):\n",
    "    x = env.step([[0,0]])\n"
   ]
  },
  {
   "cell_type": "code",
   "execution_count": null,
   "metadata": {},
   "outputs": [],
   "source": [
    "# x[3]['batched_step_result'].obs[0]\n",
    "plt.imshow(env.render())\n"
   ]
  },
  {
   "cell_type": "code",
   "execution_count": null,
   "metadata": {
    "collapsed": true
   },
   "outputs": [],
   "source": [
    "from copy import deepcopy\n",
    "ac = deepcopy(ArenaConfig(arena_path))\n",
    "ac.arenas = {k:v for k,v in ac.arenas.items() if k==1}\n",
    "ac.arenas"
   ]
  },
  {
   "cell_type": "code",
   "execution_count": null,
   "metadata": {
    "collapsed": true
   },
   "outputs": [],
   "source": [
    "env._env.rl_output.agentInfos[\"AnimalAI?team=0\"].value[0].reward"
   ]
  },
  {
   "cell_type": "code",
   "execution_count": null,
   "metadata": {
    "collapsed": true
   },
   "outputs": [],
   "source": [
    "os.chdir('..')\n",
    "import time\n",
    "from config import COMPETITION_CONFIGS as comp\n",
    "for i in comp['Numerosity']:\n",
    "    print(i)\n",
    "    yaml_path = f'../competition_configurations/{i}.yml'\n",
    "    ac = ArenaConfig(yaml_path)    \n",
    "    env.reset(ac)\n",
    "    for i in range(30):\n",
    "        env.step([0,0])\n",
    "    time.sleep(1)"
   ]
  },
  {
   "cell_type": "code",
   "execution_count": null,
   "metadata": {
    "collapsed": true
   },
   "outputs": [],
   "source": [
    "env.close()"
   ]
  },
  {
   "cell_type": "code",
   "execution_count": null,
   "metadata": {
    "collapsed": true
   },
   "outputs": [],
   "source": [
    "x[3]['batched_step_result'].reward\n"
   ]
  },
  {
   "cell_type": "code",
   "execution_count": null,
   "metadata": {
    "collapsed": true,
    "scrolled": true
   },
   "outputs": [],
   "source": [
    "from animalai.envs.cvis_test import ExtractFeatures\n",
    "ef = ExtractFeatures(display=True, training=False)\n",
    "y = ef.run_test(env.render())\n",
    "plt.imshow(ef.img[:,:,::-1])\n",
    "plt.savefig('/Users/ludo/Desktop/rand_env.png',bbox_inches='tight',transparent=True, pad_inches=0)\n"
   ]
  },
  {
   "cell_type": "code",
   "execution_count": null,
   "metadata": {
    "collapsed": true
   },
   "outputs": [],
   "source": [
    "def goal_over(bb1, bb2):\n",
    "    if 'goal' in bb2[1]:\n",
    "        return False\n",
    "    if get_distance(bb1[0], bb2[0])<0.005:\n",
    "        print('ye')\n",
    "\n",
    "        if bb1[0][1]<bb2[0][1]:\n",
    "            print('naa')\n",
    "            return True\n",
    "    return False\n",
    "goal_over(y['goal1'][2], y['platform'][0])"
   ]
  },
  {
   "cell_type": "code",
   "execution_count": null,
   "metadata": {
    "collapsed": true
   },
   "outputs": [],
   "source": [
    "from animalai.envs.cvis import ExtractFeatures\n",
    "ef = ExtractFeatures(display=True, training=False)\n",
    "data = x[3]['batched_step_result'].obs[0][0]\n",
    "print(ef.run(data))\n",
    "plt.imshow(ef.img)"
   ]
  },
  {
   "cell_type": "code",
   "execution_count": null,
   "metadata": {
    "collapsed": true
   },
   "outputs": [],
   "source": [
    "class HSV:\n",
    "\t\"\"\"Color lower and upper bounds in HSV format\"\"\"\n",
    "\n",
    "\t@classmethod\n",
    "\tdef __getattribute__(cls,attr):\n",
    "\t\treturn [np.array(i) for i in getattr(cls, attr)]\n",
    "\n",
    "\tgreen = [[33,80,40], [102,255,255]]\n",
    "\t# red = [[0,181,0], [6,255,255]]\n",
    "\t# red = [[0,184,0], [179,208,217]]\n",
    "\tred = [[125,16,88], [179,255,255]]\n",
    "\tgrey = [[0,0,0], [0,0,224]]\n",
    "\tbrown = [[7,53,40], [18,87,121]]\n",
    "\n",
    "hsv_cls = HSV()\n",
    "objects = {\n",
    "\t'goal': hsv_cls.green,\n",
    "\t# 'danger_zone': hsv_cls.red,\n",
    "\t# 'wall': hsv_cls.grey,\n",
    "}\n",
    "ef.get_contour(objects['goal'])\n",
    "plt.imshow(ef.hsv_img)"
   ]
  },
  {
   "cell_type": "code",
   "execution_count": null,
   "metadata": {
    "collapsed": true
   },
   "outputs": [],
   "source": [
    "# env._env.DEFAULT_EDITOR_PORT\n",
    "x[3]['batched_step_result'].obs[1].reshape(-1,9)[[0,11,22]][:, 0:6].flatten()"
   ]
  },
  {
   "cell_type": "code",
   "execution_count": null,
   "metadata": {
    "collapsed": true,
    "scrolled": true
   },
   "outputs": [],
   "source": [
    "env.close()"
   ]
  },
  {
   "cell_type": "code",
   "execution_count": null,
   "metadata": {
    "collapsed": true,
    "scrolled": false
   },
   "outputs": [],
   "source": [
    "env.reset()\n",
    "for _ in range(1):\n",
    "    x = env.step([[0,0]])\n",
    "    res = x[3]['batched_step_result'].obs[1][0]\n",
    "    plt.axis('off')\n",
    "    plt.imshow(res)\n",
    "#     plt.savefig('rand_env.png',bbox_inches='tight',transparent=True, pad_inches=0)\n",
    "    plt.show()\n",
    "    res = x[3]['batched_step_result'].obs[1][1]\n",
    "    plt.axis('off')\n",
    "    plt.imshow(res)\n",
    "#     plt.savefig('rand_env.png',bbox_inches='tight',transparent=True, pad_inches=0)\n",
    "    plt.show()    "
   ]
  },
  {
   "cell_type": "code",
   "execution_count": null,
   "metadata": {
    "scrolled": false
   },
   "outputs": [],
   "source": [
    "import sys\n",
    "sys.path.insert(0, \"/Users/ludo/Desktop/animalai/animalai/animalai_train\")\n",
    "sys.path.insert(1, \"/Users/ludo/Desktop/animalai/animalai/animalai\")\n",
    "from animalai.envs.gym.environment import AnimalAIGym\n",
    "import random\n",
    "from animalai.envs.arena_config import ArenaConfig\n",
    "\n",
    "import os\n",
    "import yaml\n",
    "import copy\n",
    "import numpy as np\n",
    "import pandas as pd\n",
    "from matplotlib import pyplot as plt\n",
    "\n",
    "from animalai.envs.environment import AnimalAIEnvironment\n",
    "\n",
    "# CONFIG\n",
    "env_path = '../../env/AnimalAI'\n",
    "# env_path = '../env/AnimalAI'\n",
    "\n",
    "worker_id = 2\n",
    "seed = 1\n",
    "# yaml_path = '../configurations/ramps/0.yml'\n",
    "\n",
    "# yaml_path = '../../competition_configurations/3-18-3.yml'\n",
    "# yaml_path = '../configurations/curriculum12/112.yml'\n",
    "# yaml_path = \"../../competition_configurations/5-8-3.yml\" #'configurations/curriculum/0.yaml'\n",
    "yaml_path = 'test.yml'\n",
    "\n",
    "ac = ArenaConfig(yaml_path)\n",
    "\n",
    "env = AnimalAIEnvironment(\n",
    "                    file_name=env_path,\n",
    "                    arenas_configurations = ac,\n",
    "                    worker_id=worker_id,\n",
    "                    play=True, base_port=5002,\n",
    "                    alter_obs = False\n",
    "                    )\n",
    "# env = AnimalAIGym(environment_filename=env_path,\n",
    "#               worker_id=worker_id,\n",
    "#               n_arenas=1,\n",
    "#               arenas_configurations=ac,\n",
    "\n",
    "#                 seed=seed,\n",
    "#                  grayscale=False)\n",
    "x = env.step()\n",
    "\n",
    "# plt.axis('off')\n",
    "# plt.imshow(env.visual_obs)\n",
    "# plt.savefig('rand_env.png',bbox_inches='tight',transparent=True, pad_inches=0)\n"
   ]
  },
  {
   "cell_type": "code",
   "execution_count": null,
   "metadata": {
    "collapsed": true
   },
   "outputs": [],
   "source": [
    "env.close()"
   ]
  },
  {
   "cell_type": "code",
   "execution_count": null,
   "metadata": {},
   "outputs": [],
   "source": [
    "plt.imshow(env.get_step_result('AnimalAI?team=0').obs[0][0])\n"
   ]
  },
  {
   "cell_type": "code",
   "execution_count": null,
   "metadata": {},
   "outputs": [],
   "source": [
    "from copy import deepcopy\n",
    "\n",
    "# yaml_path = '../../competition_configurations/3-18-3.yml'\n",
    "# yaml_path = '../configurations/curriculum12/112.yml'\n",
    "yaml_path = \"../../competition_configurations/5-8-3.yml\" #'configurations/curriculum/0.yaml'\n",
    "# yaml_path = 'test.yml'\n",
    "\n",
    "ac = deepcopy(ArenaConfig(yaml_path))\n",
    "# ac.arenas = {0:v for k,v in ac.arenas.items() if k==2}\n"
   ]
  },
  {
   "cell_type": "code",
   "execution_count": null,
   "metadata": {},
   "outputs": [],
   "source": [
    "arenas_configurations_proto = ac.to_proto()\n",
    "arenas_configurations_proto_string = arenas_configurations_proto.SerializeToString(\n",
    "    deterministic=True\n",
    ")\n",
    "env.arenas_parameters_side_channel.send_raw_data(\n",
    "    bytearray(arenas_configurations_proto_string)\n",
    ")\n"
   ]
  },
  {
   "cell_type": "code",
   "execution_count": null,
   "metadata": {},
   "outputs": [],
   "source": [
    "env.reset()"
   ]
  },
  {
   "cell_type": "code",
   "execution_count": null,
   "metadata": {},
   "outputs": [],
   "source": [
    "ac.arenas[2]."
   ]
  },
  {
   "cell_type": "code",
   "execution_count": null,
   "metadata": {
    "collapsed": true
   },
   "outputs": [],
   "source": [
    "0 is ascending towards bottom\n",
    "90 is ascending towards left\n",
    "180 ascending towards top\n",
    "270 ascending towards right\n",
    "\n"
   ]
  }
 ],
 "metadata": {
  "kernelspec": {
   "display_name": "animalaienv",
   "language": "python",
   "name": "animalaienv"
  },
  "language_info": {
   "codemirror_mode": {
    "name": "ipython",
    "version": 3
   },
   "file_extension": ".py",
   "mimetype": "text/x-python",
   "name": "python",
   "nbconvert_exporter": "python",
   "pygments_lexer": "ipython3",
   "version": "3.6.2"
  }
 },
 "nbformat": 4,
 "nbformat_minor": 2
}
