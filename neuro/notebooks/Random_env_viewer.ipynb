{
 "cells": [
  {
   "cell_type": "code",
   "execution_count": 1,
   "metadata": {
    "scrolled": false
   },
   "outputs": [
    {
     "name": "stdout",
     "output_type": "stream",
     "text": [
      "USING LOCAL LIBRARY\n"
     ]
    },
    {
     "name": "stderr",
     "output_type": "stream",
     "text": [
      "INFO:mlagents_envs:Connected to Unity environment with package version 0.15.0-preview and communication version 0.15.0\n",
      "INFO:mlagents_envs:Connected new brain:\n",
      "AnimalAI?team=0\n",
      "INFO:gym_unity:1 agents within environment.\n"
     ]
    }
   ],
   "source": [
    "import os\n",
    "import sys\n",
    "# os.chdir('/Users/ludo/Desktop/animalai/animalai')\n",
    "sys.path.insert(0, \"/Users/ludo/Desktop/animalai/animalai/animalai_train\")\n",
    "sys.path.insert(1, \"/Users/ludo/Desktop/animalai/animalai/animalai\")\n",
    "from animalai.envs.gym.environment import AnimalAIGym\n",
    "import random\n",
    "from animalai.envs.arena_config import ArenaConfig\n",
    "\n",
    "import yaml\n",
    "import copy\n",
    "import numpy as np\n",
    "import pandas as pd\n",
    "from matplotlib import pyplot as plt\n",
    "\n",
    "\n",
    "# CONFIG\n",
    "env_path = '../../env/aaiagain'\n",
    "worker_id = 3\n",
    "#random.randint(1, 100)\n",
    "# competition_envs = os.listdir('../competition_configurations/')\n",
    "\n",
    "seed = 1\n",
    "\n",
    "\n",
    "# yaml_path = '../examples/rand_env.yml'\n",
    "# ac = ArenaConfig(yaml_path)\n",
    "# arena_path = \"../../competition_configurations/5-10-3.yml\" #'configurations/curriculum/0.yaml'\n",
    "arena_path = '../../competition_configurations/9-5-1.yml'\n",
    "\n",
    "# ac = ArenaConfig(arena_path)\n",
    "# ac.arenas[1] = copy.deepcopy(ac.arenas[0])\n",
    "# yaml_path = 'configurations/curriculum4/19.yml'\n",
    "ac = ArenaConfig(arena_path)\n",
    "env = AnimalAIGym(environment_filename=env_path,\n",
    "              worker_id=worker_id,\n",
    "              n_arenas=1,\n",
    "              arenas_configurations=ac,\n",
    "                use_visual=False,\n",
    "                seed=seed,\n",
    "                 grayscale=False,\n",
    "                 resolution=1000)\n",
    "\n",
    "x = env.step([[0,0]])"
   ]
  },
  {
   "cell_type": "code",
   "execution_count": 2,
   "metadata": {},
   "outputs": [
    {
     "name": "stdout",
     "output_type": "stream",
     "text": [
      "9-5-2\n",
      "9-5-2\n",
      "9-5-3\n",
      "9-6-2\n",
      "9-6-3\n",
      "9-7-1\n",
      "9-7-2\n",
      "9-7-3\n",
      "9-8-1\n",
      "9-8-2\n",
      "9-6-1\n",
      "9-8-3\n",
      "9-18-3\n",
      "9-29-1\n",
      "9-9-1\n",
      "9-14-3\n",
      "9-20-3\n",
      "9-26-2\n",
      "9-29-2\n",
      "9-1-1\n",
      "9-1-2\n",
      "9-1-3\n",
      "9-2-1\n",
      "9-2-2\n",
      "9-2-3\n",
      "9-3-1\n",
      "9-3-2\n",
      "9-3-3\n",
      "9-4-1\n",
      "9-4-2\n",
      "9-4-3\n",
      "9-9-2\n",
      "9-9-3\n",
      "9-10-1\n"
     ]
    },
    {
     "ename": "UnityCommunicationException",
     "evalue": "Communicator has stopped.",
     "output_type": "error",
     "traceback": [
      "\u001b[0;31m---------------------------------------------------------------------------\u001b[0m",
      "\u001b[0;31mUnityCommunicationException\u001b[0m               Traceback (most recent call last)",
      "\u001b[0;32m<ipython-input-2-c03d218c5943>\u001b[0m in \u001b[0;36m<module>\u001b[0;34m\u001b[0m\n\u001b[1;32m      8\u001b[0m     \u001b[0menv\u001b[0m\u001b[0;34m.\u001b[0m\u001b[0mreset\u001b[0m\u001b[0;34m(\u001b[0m\u001b[0mac\u001b[0m\u001b[0;34m)\u001b[0m\u001b[0;34m\u001b[0m\u001b[0m\n\u001b[1;32m      9\u001b[0m     \u001b[0;32mfor\u001b[0m \u001b[0mi\u001b[0m \u001b[0;32min\u001b[0m \u001b[0mrange\u001b[0m\u001b[0;34m(\u001b[0m\u001b[0;36m30\u001b[0m\u001b[0;34m)\u001b[0m\u001b[0;34m:\u001b[0m\u001b[0;34m\u001b[0m\u001b[0m\n\u001b[0;32m---> 10\u001b[0;31m         \u001b[0menv\u001b[0m\u001b[0;34m.\u001b[0m\u001b[0mstep\u001b[0m\u001b[0;34m(\u001b[0m\u001b[0;34m[\u001b[0m\u001b[0;36m0\u001b[0m\u001b[0;34m,\u001b[0m\u001b[0;36m0\u001b[0m\u001b[0;34m]\u001b[0m\u001b[0;34m)\u001b[0m\u001b[0;34m\u001b[0m\u001b[0m\n\u001b[0m\u001b[1;32m     11\u001b[0m     \u001b[0mtime\u001b[0m\u001b[0;34m.\u001b[0m\u001b[0msleep\u001b[0m\u001b[0;34m(\u001b[0m\u001b[0;36m1\u001b[0m\u001b[0;34m)\u001b[0m\u001b[0;34m\u001b[0m\u001b[0m\n",
      "\u001b[0;32m~/Desktop/animalai/lib/python3.6/site-packages/gym_unity/envs/__init__.py\u001b[0m in \u001b[0;36mstep\u001b[0;34m(self, action)\u001b[0m\n\u001b[1;32m    220\u001b[0m         \u001b[0mself\u001b[0m\u001b[0;34m.\u001b[0m\u001b[0m_env\u001b[0m\u001b[0;34m.\u001b[0m\u001b[0mset_actions\u001b[0m\u001b[0;34m(\u001b[0m\u001b[0mself\u001b[0m\u001b[0;34m.\u001b[0m\u001b[0mbrain_name\u001b[0m\u001b[0;34m,\u001b[0m \u001b[0maction\u001b[0m\u001b[0;34m)\u001b[0m\u001b[0;34m\u001b[0m\u001b[0m\n\u001b[1;32m    221\u001b[0m \u001b[0;34m\u001b[0m\u001b[0m\n\u001b[0;32m--> 222\u001b[0;31m         \u001b[0mstep_result\u001b[0m \u001b[0;34m=\u001b[0m \u001b[0mself\u001b[0m\u001b[0;34m.\u001b[0m\u001b[0m_step\u001b[0m\u001b[0;34m(\u001b[0m\u001b[0;34m)\u001b[0m\u001b[0;34m\u001b[0m\u001b[0m\n\u001b[0m\u001b[1;32m    223\u001b[0m \u001b[0;34m\u001b[0m\u001b[0m\n\u001b[1;32m    224\u001b[0m         \u001b[0mn_agents\u001b[0m \u001b[0;34m=\u001b[0m \u001b[0mstep_result\u001b[0m\u001b[0;34m.\u001b[0m\u001b[0mn_agents\u001b[0m\u001b[0;34m(\u001b[0m\u001b[0;34m)\u001b[0m\u001b[0;34m\u001b[0m\u001b[0m\n",
      "\u001b[0;32m~/Desktop/animalai/animalai/animalai/animalai/envs/gym/environment.py\u001b[0m in \u001b[0;36m_step\u001b[0;34m(self, needs_reset, arenas_configurations)\u001b[0m\n\u001b[1;32m    163\u001b[0m             \u001b[0mself\u001b[0m\u001b[0;34m.\u001b[0m\u001b[0m_env\u001b[0m\u001b[0;34m.\u001b[0m\u001b[0mreset\u001b[0m\u001b[0;34m(\u001b[0m\u001b[0marenas_configurations\u001b[0m\u001b[0;34m=\u001b[0m\u001b[0marenas_configurations\u001b[0m\u001b[0;34m)\u001b[0m\u001b[0;34m\u001b[0m\u001b[0m\n\u001b[1;32m    164\u001b[0m         \u001b[0;32melse\u001b[0m\u001b[0;34m:\u001b[0m\u001b[0;34m\u001b[0m\u001b[0m\n\u001b[0;32m--> 165\u001b[0;31m             \u001b[0mself\u001b[0m\u001b[0;34m.\u001b[0m\u001b[0m_env\u001b[0m\u001b[0;34m.\u001b[0m\u001b[0mstep\u001b[0m\u001b[0;34m(\u001b[0m\u001b[0;34m)\u001b[0m\u001b[0;34m\u001b[0m\u001b[0m\n\u001b[0m\u001b[1;32m    166\u001b[0m         \u001b[0minfo\u001b[0m \u001b[0;34m=\u001b[0m \u001b[0mself\u001b[0m\u001b[0;34m.\u001b[0m\u001b[0m_env\u001b[0m\u001b[0;34m.\u001b[0m\u001b[0mget_step_result\u001b[0m\u001b[0;34m(\u001b[0m\u001b[0mself\u001b[0m\u001b[0;34m.\u001b[0m\u001b[0mbrain_name\u001b[0m\u001b[0;34m)\u001b[0m\u001b[0;34m\u001b[0m\u001b[0m\n\u001b[1;32m    167\u001b[0m         \u001b[0;31m# Two possible cases here:\u001b[0m\u001b[0;34m\u001b[0m\u001b[0;34m\u001b[0m\u001b[0m\n",
      "\u001b[0;32m~/Desktop/animalai/lib/python3.6/site-packages/mlagents_envs/timers.py\u001b[0m in \u001b[0;36mwrapped\u001b[0;34m(*args, **kwargs)\u001b[0m\n\u001b[1;32m    256\u001b[0m     \u001b[0;32mdef\u001b[0m \u001b[0mwrapped\u001b[0m\u001b[0;34m(\u001b[0m\u001b[0;34m*\u001b[0m\u001b[0margs\u001b[0m\u001b[0;34m,\u001b[0m \u001b[0;34m**\u001b[0m\u001b[0mkwargs\u001b[0m\u001b[0;34m)\u001b[0m\u001b[0;34m:\u001b[0m\u001b[0;34m\u001b[0m\u001b[0m\n\u001b[1;32m    257\u001b[0m         \u001b[0;32mwith\u001b[0m \u001b[0mhierarchical_timer\u001b[0m\u001b[0;34m(\u001b[0m\u001b[0mfunc\u001b[0m\u001b[0;34m.\u001b[0m\u001b[0m__qualname__\u001b[0m\u001b[0;34m)\u001b[0m\u001b[0;34m:\u001b[0m\u001b[0;34m\u001b[0m\u001b[0m\n\u001b[0;32m--> 258\u001b[0;31m             \u001b[0;32mreturn\u001b[0m \u001b[0mfunc\u001b[0m\u001b[0;34m(\u001b[0m\u001b[0;34m*\u001b[0m\u001b[0margs\u001b[0m\u001b[0;34m,\u001b[0m \u001b[0;34m**\u001b[0m\u001b[0mkwargs\u001b[0m\u001b[0;34m)\u001b[0m\u001b[0;34m\u001b[0m\u001b[0m\n\u001b[0m\u001b[1;32m    259\u001b[0m \u001b[0;34m\u001b[0m\u001b[0m\n\u001b[1;32m    260\u001b[0m     \u001b[0;32mreturn\u001b[0m \u001b[0mwrapped\u001b[0m  \u001b[0;31m# type: ignore\u001b[0m\u001b[0;34m\u001b[0m\u001b[0m\n",
      "\u001b[0;32m~/Desktop/animalai/animalai/animalai/animalai/envs/environment.py\u001b[0m in \u001b[0;36mstep\u001b[0;34m(self)\u001b[0m\n\u001b[1;32m    409\u001b[0m             \u001b[0moutputs\u001b[0m \u001b[0;34m=\u001b[0m \u001b[0mself\u001b[0m\u001b[0;34m.\u001b[0m\u001b[0mcommunicator\u001b[0m\u001b[0;34m.\u001b[0m\u001b[0mexchange\u001b[0m\u001b[0;34m(\u001b[0m\u001b[0mstep_input\u001b[0m\u001b[0;34m)\u001b[0m\u001b[0;34m\u001b[0m\u001b[0m\n\u001b[1;32m    410\u001b[0m         \u001b[0;32mif\u001b[0m \u001b[0moutputs\u001b[0m \u001b[0;32mis\u001b[0m \u001b[0;32mNone\u001b[0m\u001b[0;34m:\u001b[0m\u001b[0;34m\u001b[0m\u001b[0m\n\u001b[0;32m--> 411\u001b[0;31m             \u001b[0;32mraise\u001b[0m \u001b[0mUnityCommunicationException\u001b[0m\u001b[0;34m(\u001b[0m\u001b[0;34m\"Communicator has stopped.\"\u001b[0m\u001b[0;34m)\u001b[0m\u001b[0;34m\u001b[0m\u001b[0m\n\u001b[0m\u001b[1;32m    412\u001b[0m \u001b[0;34m\u001b[0m\u001b[0m\n\u001b[1;32m    413\u001b[0m         \u001b[0mself\u001b[0m\u001b[0;34m.\u001b[0m\u001b[0m_update_group_specs\u001b[0m\u001b[0;34m(\u001b[0m\u001b[0moutputs\u001b[0m\u001b[0;34m)\u001b[0m\u001b[0;34m\u001b[0m\u001b[0m\n",
      "\u001b[0;31mUnityCommunicationException\u001b[0m: Communicator has stopped."
     ]
    }
   ],
   "source": [
    "os.chdir('..')\n",
    "import time\n",
    "from config import COMPETITION_CONFIGS as comp\n",
    "for i in comp['Numerosity']:\n",
    "    print(i)\n",
    "    yaml_path = f'../competition_configurations/{i}.yml'\n",
    "    ac = ArenaConfig(yaml_path)    \n",
    "    env.reset(ac)\n",
    "    for i in range(30):\n",
    "        env.step([0,0])\n",
    "    time.sleep(1)"
   ]
  },
  {
   "cell_type": "code",
   "execution_count": null,
   "metadata": {},
   "outputs": [],
   "source": [
    "env.close()"
   ]
  },
  {
   "cell_type": "code",
   "execution_count": null,
   "metadata": {
    "collapsed": true
   },
   "outputs": [],
   "source": [
    "x[3]['batched_step_result'].reward\n"
   ]
  },
  {
   "cell_type": "code",
   "execution_count": null,
   "metadata": {
    "collapsed": true
   },
   "outputs": [],
   "source": [
    "2-5-2\n",
    "2-5-3\n",
    "2-18-2\n",
    "failed\n",
    "2-16-1\n",
    "2-13-3\n",
    "2-17-1\n",
    "success"
   ]
  },
  {
   "cell_type": "code",
   "execution_count": null,
   "metadata": {
    "scrolled": false
   },
   "outputs": [],
   "source": [
    "# env.reset()\n",
    "yaml_path = '../../competition_configurations/9-5-1.yml'\n",
    "# yaml_path = '../configurations/curriculum14/43.yml'\n",
    "\n",
    "ac = ArenaConfig(yaml_path)  \n",
    "env.reset(ac)\n",
    "# ac.arenas[0].t\n",
    "# for i in range(20):\n",
    "#     x = env.step([[1,2]])\n",
    "#     print(x[3]['batched_step_result'].reward)\n",
    "#     print(x[1], x[2], x[3]['batched_step_result'].done, x[3]['batched_step_result'].reward)\n",
    "# for i in range(20):\n",
    "#     x = env.step([[0,1]])\n",
    "# plt.axis('off')\n",
    "plt.imshow(env.render())\n",
    "# plt.savefig('/Users/ludo/Desktop/rand_env.png',bbox_inches='tight',transparent=True, pad_inches=0)\n",
    "\n",
    "# env._env.arenas_obj_config_side_channel.arenas_config\n",
    "# print(x[3]['batched_step_result'].reward)"
   ]
  },
  {
   "cell_type": "code",
   "execution_count": null,
   "metadata": {
    "scrolled": true
   },
   "outputs": [],
   "source": [
    "from animalai.envs.cvis_test import ExtractFeatures\n",
    "ef = ExtractFeatures(display=True, training=False)\n",
    "y = ef.run_test(env.render())\n",
    "plt.imshow(ef.img[:,:,::-1])\n",
    "plt.savefig('/Users/ludo/Desktop/rand_env.png',bbox_inches='tight',transparent=True, pad_inches=0)\n"
   ]
  },
  {
   "cell_type": "code",
   "execution_count": null,
   "metadata": {
    "collapsed": true
   },
   "outputs": [],
   "source": [
    "y = [ '5-4-1' , '5-4-2' , '5-4-3' , '5-5-1' , '5-5-2' , '5-6-1' , '5-6-2' , '5-6-3' , '5-7-1' , '5-7-2' , '5-7-3' , '5-8-1' , '5-8-2' , '5-8-3' , '5-9-1' , '5-9-2' , '5-9-3' , '5-10-1' , '5-10-2' , '5-10-3' , '5-11-1' , '5-11-3' , '5-12-1' , '5-12-2' , '5-12-3' , '5-5-3' , '5-11-2' , ]\n",
    "0maze, 1cyl, 2trasnp, 3wout\n",
    "{k:{'type':0, 'dir':0}for k in y}\n",
    "{'5-4-1': {'type': 0, 'dir': 'same'},\n",
    " '5-4-2': {'type': 0, 'dir': 'same'},\n",
    " '5-4-3': {'type': 0, 'dir': 'same'},\n",
    " '5-5-1': {'type': 0, 'dir': 'right'},\n",
    " '5-5-2': {'type': 0, 'dir': 'right'},\n",
    " '5-6-1': {'type': 0, 'dir': 'left'},\n",
    " '5-6-2': {'type': 0, 'dir': 'right'},\n",
    " '5-6-3': {'type': 0, 'dir': 'right'},\n",
    " '5-7-1': {'type': 1, 'dir': 'left'},\n",
    " '5-7-2': {'type': 1, 'dir': 'left'},\n",
    " '5-7-3': {'type': 1, 'dir': 'left'},\n",
    " '5-8-1': {'type': 1, 'dir': 'right'},\n",
    " '5-8-2': {'type': 1, 'dir': 'right'},\n",
    " '5-8-3': {'type': 1, 'dir': 'right'},\n",
    " '5-9-1': {'type': 3, 'dir': 'left'},\n",
    " '5-9-2': {'type': 3, 'dir': 'left'},\n",
    " '5-9-3': {'type': 3, 'dir': 'left'},\n",
    " '5-10-1': {'type': 3, 'dir': 'right'},\n",
    " '5-10-2': {'type': 3, 'dir': 'right'},\n",
    " '5-10-3': {'type': 3, 'dir': 'right'},\n",
    " '5-11-1': {'type': 2, 'dir': 'left'},\n",
    " '5-11-3': {'type': 2, 'dir': 'left'},\n",
    " '5-11-2': {'type': 2, 'dir': 'left'}\n",
    " '5-12-1': {'type': 2, 'dir': 'right'},\n",
    " '5-12-2': {'type': 2, 'dir': 'right'},\n",
    " '5-12-3': {'type': 2, 'dir': 'right'},\n",
    " '5-5-3': {'type': 0, 'dir': 'left'},\n",
    " }"
   ]
  },
  {
   "cell_type": "code",
   "execution_count": null,
   "metadata": {
    "collapsed": true
   },
   "outputs": [],
   "source": [
    "def goal_over(bb1, bb2):\n",
    "    if 'goal' in bb2[1]:\n",
    "        return False\n",
    "    if get_distance(bb1[0], bb2[0])<0.005:\n",
    "        print('ye')\n",
    "\n",
    "        if bb1[0][1]<bb2[0][1]:\n",
    "            print('naa')\n",
    "            return True\n",
    "    return False\n",
    "goal_over(y['goal1'][2], y['platform'][0])"
   ]
  },
  {
   "cell_type": "code",
   "execution_count": null,
   "metadata": {
    "collapsed": true
   },
   "outputs": [],
   "source": [
    "def convert_dimensions(func):\n",
    "    def wrapper(*dimensions):\n",
    "        \"\"\"Convert from x,y,h,w to x1, x2, y1, y2\"\"\"\n",
    "        # x is top left corner\n",
    "        res = []\n",
    "\n",
    "        for dims in dimensions:\n",
    "            x1, y1 = dims[0], dims[1] #x, y\n",
    "            x2 = x1 + dims[2] #w\n",
    "            y2 = y1 + dims[3] #h\n",
    "            res.append({'x1': x1, 'y1':y1, 'x2':x2, 'y2':y2})\n",
    "\n",
    "\n",
    "        return func(*res)\n",
    "    return wrapper\n",
    "\n",
    "\n",
    "\n",
    "@convert_dimensions\n",
    "def get_overlap(bb1, bb2):\n",
    "    \"\"\"\n",
    "    Calculate the Intersection over Union (IoU) of two bounding boxes.\n",
    "\n",
    "    Parameters\n",
    "    ----------\n",
    "    bb1 : dict\n",
    "        Keys: {'x1', 'x2', 'y1', 'y2'}\n",
    "        The (x1, y1) position is at the top left corner,\n",
    "        the (x2, y2) position is at the bottom right corner\n",
    "    bb2 : dict\n",
    "        Keys: {'x1', 'x2', 'y1', 'y2'}\n",
    "        The (x, y) position is at the top left corner,\n",
    "        the (x2, y2) position is at the bottom right corner\n",
    "\n",
    "    Returns\n",
    "    -------\n",
    "    float\n",
    "        in [0, 1]\n",
    "    \"\"\"\n",
    "    # assert bb1['x1'] < bb1['x2']\n",
    "    # assert bb1['y1'] < bb1['y2']\n",
    "    # assert bb2['x1'] < bb2['x2']\n",
    "    # assert bb2['y1'] < bb2['y2']\n",
    "\n",
    "    # determine the coordinates of the intersection rectangle\n",
    "    x_left = max(bb1['x1'], bb2['x1'])\n",
    "    y_top = max(bb1['y1'], bb2['y1'])\n",
    "    x_right = min(bb1['x2'], bb2['x2'])\n",
    "    y_bottom = min(bb1['y2'], bb2['y2'])\n",
    "\n",
    "    if x_right < x_left or y_bottom < y_top:\n",
    "        return 0.0\n",
    "\n",
    "    # The intersection of two axis-aligned bounding boxes is always an\n",
    "    # axis-aligned bounding box\n",
    "    intersection_area = (x_right - x_left) * (y_bottom - y_top)\n",
    "\n",
    "    # compute the area of both AABBs\n",
    "    bb1_area = (bb1['x2'] - bb1['x1']) * (bb1['y2'] - bb1['y1'])\n",
    "    bb2_area = (bb2['x2'] - bb2['x1']) * (bb2['y2'] - bb2['y1'])\n",
    "\n",
    "    # compute the intersection over union by taking the intersection\n",
    "    # area and dividing it by the sum of prediction + ground-truth\n",
    "    # areas - the interesection area\n",
    "    iou = intersection_area / float(bb1_area + bb2_area - intersection_area)\n",
    "    assert iou >= 0.0\n",
    "    assert iou <= 1.0\n",
    "    return iou\n",
    "\n",
    "@convert_dimensions\n",
    "def get_distance(dims1, dims2):\n",
    "    \"\"\"Get shortest distance between two rectangles\"\"\"\n",
    "\n",
    "    x1, y1, x1b, y1b = dims1.values()\n",
    "    x2, y2, x2b, y2b = dims2.values()\n",
    "    left = x2b < x1\n",
    "    right = x1b < x2\n",
    "    bottom = y2b < y1\n",
    "    top = y1b < y2\n",
    "    dist = lambda x,y: np.linalg.norm(np.array(x)-np.array(y))\n",
    "    if top and left:\n",
    "        return dist((x1, y1b), (x2b, y2))\n",
    "    elif left and bottom:\n",
    "        return dist((x1, y1), (x2b, y2b))\n",
    "    elif bottom and right:\n",
    "        return dist((x1b, y1), (x2, y2b))\n",
    "    elif right and top:\n",
    "        return dist((x1b, y1b), (x2, y2))\n",
    "    elif left:\n",
    "        return x1 - x2b\n",
    "    elif right:\n",
    "        return x2 - x1b\n",
    "    elif bottom:\n",
    "        return y1 - y2b\n",
    "    elif top:\n",
    "        return y2 - y1b\n",
    "    else:             # rectangles intersect\n",
    "        return 0."
   ]
  },
  {
   "cell_type": "code",
   "execution_count": null,
   "metadata": {
    "collapsed": true
   },
   "outputs": [],
   "source": [
    "import cv2\n",
    "cv2.imwrite('/Users/ludo/Desktop/far.png', x[3]['batched_step_result'].obs[0][0])"
   ]
  },
  {
   "cell_type": "code",
   "execution_count": null,
   "metadata": {
    "collapsed": true
   },
   "outputs": [],
   "source": [
    "from animalai.envs.cvis import ExtractFeatures\n",
    "ef = ExtractFeatures(display=True, training=False)\n",
    "data = x[3]['batched_step_result'].obs[0][0]\n",
    "print(ef.run(data))\n",
    "plt.imshow(ef.img)"
   ]
  },
  {
   "cell_type": "code",
   "execution_count": null,
   "metadata": {
    "collapsed": true
   },
   "outputs": [],
   "source": [
    "class HSV:\n",
    "\t\"\"\"Color lower and upper bounds in HSV format\"\"\"\n",
    "\n",
    "\t@classmethod\n",
    "\tdef __getattribute__(cls,attr):\n",
    "\t\treturn [np.array(i) for i in getattr(cls, attr)]\n",
    "\n",
    "\tgreen = [[33,80,40], [102,255,255]]\n",
    "\t# red = [[0,181,0], [6,255,255]]\n",
    "\t# red = [[0,184,0], [179,208,217]]\n",
    "\tred = [[125,16,88], [179,255,255]]\n",
    "\tgrey = [[0,0,0], [0,0,224]]\n",
    "\tbrown = [[7,53,40], [18,87,121]]\n",
    "\n",
    "hsv_cls = HSV()\n",
    "objects = {\n",
    "\t'goal': hsv_cls.green,\n",
    "\t# 'danger_zone': hsv_cls.red,\n",
    "\t# 'wall': hsv_cls.grey,\n",
    "}\n",
    "ef.get_contour(objects['goal'])\n",
    "plt.imshow(ef.hsv_img)"
   ]
  },
  {
   "cell_type": "code",
   "execution_count": null,
   "metadata": {
    "collapsed": true
   },
   "outputs": [],
   "source": [
    "# env._env.DEFAULT_EDITOR_PORT\n",
    "x[3]['batched_step_result'].obs[1].reshape(-1,9)[[0,11,22]][:, 0:6].flatten()"
   ]
  },
  {
   "cell_type": "code",
   "execution_count": null,
   "metadata": {
    "collapsed": true
   },
   "outputs": [],
   "source": [
    "res = x[3]['batched_step_result'].obs[1].flatten()[6:146].reshape(-1,14)\n",
    "obj_mapper = [\n",
    "             \"Cardbox1\",\n",
    "             \"Cardbox2\",\n",
    "             \"CylinderTunnelTransparent\",\n",
    "             \"CylinderTunnel\",\n",
    "             \"DeathZone\",\n",
    "             \"GoodGoalMulti\",\n",
    "             \"GoodGoal\",\n",
    "             \"LObject\",\n",
    "             \"LObject2\",\n",
    "             \"Ramp\",\n",
    "             \"UObject\",\n",
    "             \"WallTransparent\",\n",
    "             \"Wall\",\n",
    "              \"BadGoal\",\n",
    "              \"HotZone\"]\n",
    "df = pd.DataFrame(res)\n",
    "df.rename(inplace=True, columns={0: 'id', 1:'class', 2: 'visible', 3:'abs_pos_x', 4:'abs_pos_y', 5:'abs_pos_z', 6: 'rel_pos_x', 7: 'rel_pos_y', 8:'rel_pos_z', 9:'abs_rot', 10:'rel_rot', 11:'size_x', 12:'size_y', 13:'size_z'})\n",
    "df['class'] = df['class'].apply(lambda x: obj_mapper[int(x)] if x!=-1.0 else 'null')\n",
    "df_a = pd.DataFrame( x[3]['batched_step_result'].obs[1].flatten()[0:6]).T\n",
    "df_a.rename(inplace=True, columns={0: 'vel_x', 1:'vel_z', 2:'rot_y', 3:'abs_pos_x', 4:'abs_pos_y', 5:'abs_pos_z'})\n",
    "display(df)\n",
    "display(df_a)\n",
    "res = x[3]['batched_step_result'].obs[0][0]\n",
    "plt.axis('off')\n",
    "plt.imshow(res)"
   ]
  },
  {
   "cell_type": "code",
   "execution_count": null,
   "metadata": {
    "collapsed": true,
    "scrolled": false
   },
   "outputs": [],
   "source": [
    "obj_mapper = [\n",
    "             \"Cardbox1\",\n",
    "             \"Cardbox2\",\n",
    "             \"CylinderTunnelTransparent\",\n",
    "             \"CylinderTunnel\",\n",
    "             \"DeathZone\",\n",
    "             \"GoodGoalMulti\",\n",
    "             \"GoodGoal\",\n",
    "             \"LObject\",\n",
    "             \"LObject2\",\n",
    "             \"Ramp\",\n",
    "             \"UObject\",\n",
    "             \"WallTransparent\",\n",
    "             \"Wall\",\n",
    "              \"BadGoal\",\n",
    "              \"HotZone\"]\n",
    "res = x[3]['batched_step_result'].obs[1].reshape(-1,9)\n",
    "df = pd.DataFrame(res[1:, :])\n",
    "df.rename(inplace=True, columns={0: 'class', 1:'rotation', 2: 'occlusion%', 3:'pos_x', 4:'pos_y', 5:'pos_z', 6: 'size_x', 7: 'size_y', 8:'size_z'})\n",
    "df['class'] = df['class'].apply(lambda x: obj_mapper[int(x)] if x!=-1.0 else 'null')\n",
    "df_a = pd.DataFrame(res[0, :]).T\n",
    "df_a.rename(inplace=True, columns={0: 'vel_x', 1:'vel_y', 2: 'vel_z', 3:'pos_x', 4:'pos_y', 5:'pos_z', 6: 'rot_x', 7: 'rot_y', 8:'rot_z'})\n",
    "display(df)\n",
    "display(df_a)\n"
   ]
  },
  {
   "cell_type": "code",
   "execution_count": null,
   "metadata": {
    "collapsed": true,
    "scrolled": true
   },
   "outputs": [],
   "source": [
    "env.close()"
   ]
  },
  {
   "cell_type": "code",
   "execution_count": null,
   "metadata": {
    "collapsed": true,
    "scrolled": false
   },
   "outputs": [],
   "source": [
    "env.reset()\n",
    "for _ in range(1):\n",
    "    x = env.step([[0,0]])\n",
    "    res = x[3]['batched_step_result'].obs[1][0]\n",
    "    plt.axis('off')\n",
    "    plt.imshow(res)\n",
    "#     plt.savefig('rand_env.png',bbox_inches='tight',transparent=True, pad_inches=0)\n",
    "    plt.show()\n",
    "    res = x[3]['batched_step_result'].obs[1][1]\n",
    "    plt.axis('off')\n",
    "    plt.imshow(res)\n",
    "#     plt.savefig('rand_env.png',bbox_inches='tight',transparent=True, pad_inches=0)\n",
    "    plt.show()    "
   ]
  },
  {
   "cell_type": "code",
   "execution_count": null,
   "metadata": {
    "collapsed": true
   },
   "outputs": [],
   "source": [
    "env.close()"
   ]
  },
  {
   "cell_type": "code",
   "execution_count": null,
   "metadata": {
    "collapsed": true
   },
   "outputs": [],
   "source": [
    "env.visual_obs.shape"
   ]
  },
  {
   "cell_type": "code",
   "execution_count": null,
   "metadata": {
    "collapsed": true
   },
   "outputs": [],
   "source": [
    "x[3]['batched_step_result'].obs[1]"
   ]
  },
  {
   "cell_type": "code",
   "execution_count": null,
   "metadata": {
    "collapsed": true,
    "scrolled": false
   },
   "outputs": [],
   "source": [
    "import sys\n",
    "sys.path.insert(0, \"/Users/ludo/Desktop/animalai/animalai/animalai_train\")\n",
    "sys.path.insert(1, \"/Users/ludo/Desktop/animalai/animalai/animalai\")\n",
    "from animalai.envs.gym.environment import AnimalAIGym\n",
    "import random\n",
    "from animalai.envs.arena_config import ArenaConfig\n",
    "\n",
    "import os\n",
    "import yaml\n",
    "import copy\n",
    "import numpy as np\n",
    "import pandas as pd\n",
    "from matplotlib import pyplot as plt\n",
    "\n",
    "from animalai.envs.environment import AnimalAIEnvironment\n",
    "\n",
    "# CONFIG\n",
    "env_path = '../../env/aaio_mac'\n",
    "# env_path = '../env/AnimalAI'\n",
    "\n",
    "worker_id = 2\n",
    "seed = 1\n",
    "# yaml_path = '../configurations/curriculum14/45.yml'\n",
    "\n",
    "yaml_path = '../../competition_configurations/5-11-3.yml'\n",
    "# yaml_path = '../configurations/curriculum12/112.yml'\n",
    "# yaml_path = \"../../competition_configurations/5-8-3.yml\" #'configurations/curriculum/0.yaml'\n",
    "\n",
    "ac = ArenaConfig(yaml_path)\n",
    "\n",
    "env = AnimalAIEnvironment(\n",
    "                    file_name=env_path,\n",
    "                    arenas_configurations = ac,\n",
    "                    worker_id=worker_id,\n",
    "                    play=True, base_port=5002,\n",
    "                    alter_obs = False\n",
    "                    )\n",
    "# env = AnimalAIGym(environment_filename=env_path,\n",
    "#               worker_id=worker_id,\n",
    "#               n_arenas=1,\n",
    "#               arenas_configurations=ac,\n",
    "\n",
    "#                 seed=seed,\n",
    "#                  grayscale=False)\n",
    "x = env.step()\n",
    "\n",
    "# plt.axis('off')\n",
    "# plt.imshow(env.visual_obs)\n",
    "# plt.savefig('rand_env.png',bbox_inches='tight',transparent=True, pad_inches=0)\n"
   ]
  },
  {
   "cell_type": "code",
   "execution_count": null,
   "metadata": {
    "collapsed": true
   },
   "outputs": [],
   "source": []
  },
  {
   "cell_type": "code",
   "execution_count": null,
   "metadata": {
    "collapsed": true
   },
   "outputs": [],
   "source": [
    "env.close()"
   ]
  },
  {
   "cell_type": "code",
   "execution_count": null,
   "metadata": {
    "collapsed": true
   },
   "outputs": [],
   "source": [
    "\n",
    "x[1].rl_output.agentInfos['AnimalAI?team=0'].value[0].observations[0].float_data\n",
    "# .Clear()"
   ]
  },
  {
   "cell_type": "code",
   "execution_count": null,
   "metadata": {
    "collapsed": true
   },
   "outputs": [],
   "source": [
    "y = [0.0, -0.3539848327636719, 0.0, 16.634414672851562, 0.4917698800563812, 16.636703491210938, -0.0, 117.50151062011719, -0.0, 12.0, 84.5000228881836, 25.35931396484375, 26.27842903137207, 2.5103018283843994, 7.750280857086182, 12.421944618225098, 5.0373125076293945, 0.9563466310501099, -1.0, -1.0, -1.0, -1.0, -1.0, -1.0, -1.0, -1.0, -1.0, -1.0, -1.0, -1.0, -1.0, -1.0, -1.0, -1.0, -1.0, -1.0, -1.0, -1.0, -1.0, -1.0, -1.0, -1.0, -1.0, -1.0, -1.0, -1.0, -1.0, -1.0, -1.0, -1.0, -1.0, -1.0, -1.0, -1.0, -1.0, -1.0, -1.0, -1.0, -1.0, -1.0, -1.0, -1.0, -1.0, -1.0, -1.0, -1.0, -1.0, -1.0, -1.0, -1.0, -1.0, -1.0, -1.0, -1.0, -1.0, -1.0, -1.0, -1.0, -1.0, -1.0, -1.0, -1.0, -1.0, -1.0, -1.0, -1.0, -1.0, -1.0, -1.0, -1.0, 5, -1.0, -1.0, -1.0, -1.0, -1.0, -1.0, -1.0, -1.0]\n"
   ]
  },
  {
   "cell_type": "code",
   "execution_count": null,
   "metadata": {
    "collapsed": true
   },
   "outputs": [],
   "source": [
    "from mlagents_envs.communicator_objects.observation_pb2 import ObservationProto\n"
   ]
  },
  {
   "cell_type": "code",
   "execution_count": null,
   "metadata": {
    "collapsed": true
   },
   "outputs": [],
   "source": [
    "dir(x[1].rl_output.agentInfos['AnimalAI?team=0'].value[0].observations[0].float_data)"
   ]
  },
  {
   "cell_type": "code",
   "execution_count": null,
   "metadata": {
    "collapsed": true
   },
   "outputs": [],
   "source": [
    "me = x[1].rl_output.agentInfos['AnimalAI?team=0'].value[0].observations[0].float_data\n"
   ]
  },
  {
   "cell_type": "code",
   "execution_count": null,
   "metadata": {
    "collapsed": true
   },
   "outputs": [],
   "source": [
    "me.CopyFrom(x[1].rl_output.agentInfos['AnimalAI?team=0'].value[0].observations[0].float_data)"
   ]
  },
  {
   "cell_type": "code",
   "execution_count": null,
   "metadata": {
    "collapsed": true
   },
   "outputs": [],
   "source": [
    "me"
   ]
  },
  {
   "cell_type": "code",
   "execution_count": null,
   "metadata": {
    "collapsed": true
   },
   "outputs": [],
   "source": [
    "ObservationProto."
   ]
  },
  {
   "cell_type": "code",
   "execution_count": null,
   "metadata": {
    "collapsed": true
   },
   "outputs": [],
   "source": [
    "y = ObservationProto.FloatData()"
   ]
  },
  {
   "cell_type": "code",
   "execution_count": null,
   "metadata": {
    "collapsed": true
   },
   "outputs": [],
   "source": [
    "del person.things[:]\n",
    "y.data.extend([3,4,2])"
   ]
  },
  {
   "cell_type": "code",
   "execution_count": null,
   "metadata": {
    "collapsed": true
   },
   "outputs": [],
   "source": [
    "y"
   ]
  },
  {
   "cell_type": "code",
   "execution_count": null,
   "metadata": {
    "collapsed": true
   },
   "outputs": [],
   "source": [
    "x[3]['batched_step_result'].obs[1].shape"
   ]
  },
  {
   "cell_type": "code",
   "execution_count": null,
   "metadata": {
    "collapsed": true
   },
   "outputs": [],
   "source": []
  },
  {
   "cell_type": "code",
   "execution_count": null,
   "metadata": {
    "collapsed": true
   },
   "outputs": [],
   "source": [
    "print(visible)"
   ]
  },
  {
   "cell_type": "code",
   "execution_count": null,
   "metadata": {
    "collapsed": true
   },
   "outputs": [],
   "source": [
    "x"
   ]
  },
  {
   "cell_type": "code",
   "execution_count": null,
   "metadata": {
    "collapsed": true
   },
   "outputs": [],
   "source": [
    "x[3]['batched_step_result'].obs[1].flatten().shape"
   ]
  },
  {
   "cell_type": "code",
   "execution_count": null,
   "metadata": {
    "collapsed": true
   },
   "outputs": [],
   "source": [
    "df[df['id']!=-1].set_index('id')"
   ]
  },
  {
   "cell_type": "code",
   "execution_count": null,
   "metadata": {
    "collapsed": true
   },
   "outputs": [],
   "source": [
    "obj_mapper = [\n",
    "             \"Cardbox1\",\n",
    "             \"Cardbox2\",\n",
    "             \"CylinderTunnelTransparent\",\n",
    "             \"CylinderTunnel\",\n",
    "             \"DeathZone\",\n",
    "             \"GoodGoalMulti\",\n",
    "             \"GoodGoal\",\n",
    "             \"LObject\",\n",
    "             \"LObject2\",\n",
    "             \"Ramp\",\n",
    "             \"UObject\",\n",
    "             \"WallTransparent\",\n",
    "             \"Wall\",\n",
    "              \"BadGoal\",\n",
    "              \"HotZone\"]\n",
    "def obs2state(vector_obs):\n",
    "    obj_df = pd.DataFrame(vector_obs[6:146].reshape(-1,14))\n",
    "    obj_df.rename(inplace=True, columns={0: 'id', 1:'class', 2: 'visible', 3:'abs_pos_x', 4:'abs_pos_y', 5:'abs_pos_z', 6: 'rel_pos_x', 7: 'rel_pos_y', 8:'rel_pos_z', 9:'abs_rot', 10:'rel_rot', 11:'size_x', 12:'size_y', 13:'size_z'})\n",
    "    obj_df['class'] = obj_df['class'].apply(lambda x: obj_mapper[int(x)] if x!=-1.0 else 'null')\n",
    "    obj_df = obj_df[obj_df['id']!=-1]\n",
    "    obj_df['id'] = (obj_df['id']*-1).astype(int)\n",
    "    obj_df = obj_df.set_index('id')\n",
    "\n",
    "    # df_a = pd.DataFrame(vector_obs[0:6]).T\n",
    "    # df_a.rename(inplace=True, columns={0: 'vel_x', 1:'vel_z', 2:'rot_y', 3:'abs_pos_x', 4:'abs_pos_y', 5:'abs_pos_z'})\n",
    "\n",
    "    rays = vector_obs[146:151].flatten()\n",
    "    wtlm = np.matrix(vector_obs[151:167].flatten()).reshape(4,4)\n",
    "\n",
    "    res = {\n",
    "        \"agent\": vector_obs[0:6], #df\n",
    "        \"objects\": obj_df, #df\n",
    "        \"rays\": rays, # np\n",
    "        \"transform\": wtlm, # np\n",
    "    }\n",
    "    return res\n",
    "def preprocess(step_results):\n",
    "    vector_obs = step_results[3]['batched_step_result'].obs[1].flatten()\n",
    "    tmin1 = obs2state(vector_obs[:167])\n",
    "    t = obs2state(vector_obs[167:])\n",
    "\n",
    "    res = {\n",
    "        \"t-1\": tmin1, #df\n",
    "        \"t\": t, #df\n",
    "        \"reward\": step_results[1], #float\n",
    "        \"done\": step_results[2], # bool\n",
    "        \"step\": step_results[-1] \n",
    "    }\n",
    "    return res"
   ]
  },
  {
   "cell_type": "code",
   "execution_count": null,
   "metadata": {
    "collapsed": true
   },
   "outputs": [],
   "source": [
    "y = preprocess(x)\n",
    "y['t']['objects']"
   ]
  },
  {
   "cell_type": "code",
   "execution_count": null,
   "metadata": {
    "collapsed": true
   },
   "outputs": [],
   "source": [
    "import math\n",
    "def transform(matrix, obj):\n",
    "    \"\"\"Transform world position of vector to local position relative to agent\"\"\"\n",
    "    # obj = np.matrix(obj/40 - agent)\n",
    "    obj.resize(4, refcheck=False) # adds \n",
    "    res  = matrix * obj.reshape(4,1)\n",
    "    return res\n",
    "def go_behind(step_results, x):\n",
    "    \"\"\"Go behind object x. x is an id. x comes in as \"x,y\"\"\"\n",
    "    x = int(x.split(',')[0])\n",
    "    res = np.zeros(20)\n",
    "    mstate = preprocess(step_results)\n",
    "    for c, timestep in enumerate(['t-1', 't']):\n",
    "        state = mstate[timestep]\n",
    "        ooi_pos = np.array(state['objects'].loc[x, ['abs_pos_x', 'abs_pos_y', 'abs_pos_z']])\n",
    "        agent_pos = state['agent'][3:6]\n",
    "        rel_pos = ooi_pos-agent_pos\n",
    "        magn = np.linalg.norm(rel_pos)\n",
    "        behind_pos = rel_pos*(magn+0.125)/magn # 0.125 => 5units in world\n",
    "        local_behind_pos = transform(state['transform'], behind_pos)\n",
    "#         rel_rot = math.atan2(local_behind_pos[0], local_behind_pos[1])\n",
    "#         print(rel_rot)\n",
    "        res[0+(10*c):2+(10*c)] = state['agent'][:2]\n",
    "        res[2+(10*c)] = state['objects'].loc[x,'rel_rot']\n",
    "        res[3+(10*c):5+(10*c)] = [local_behind_pos[0], local_behind_pos[2]] #only want x,z\n",
    "        res[5+(10*c):10+(10*c)] = state['rays']\n",
    "    return res\n",
    "\n",
    "res = go_behind(x, '468,454')"
   ]
  },
  {
   "cell_type": "code",
   "execution_count": null,
   "metadata": {
    "collapsed": true
   },
   "outputs": [],
   "source": []
  },
  {
   "cell_type": "code",
   "execution_count": null,
   "metadata": {
    "collapsed": true
   },
   "outputs": [],
   "source": [
    "orig = [ 0.32875911, -0.4170535 ]\n",
    "plt.xlim(-1,1)\n",
    "plt.ylim(-1,1)\n",
    "plt.scatter([res[13], orig[0]], [res[14], orig[1]])"
   ]
  },
  {
   "cell_type": "code",
   "execution_count": null,
   "metadata": {
    "collapsed": true
   },
   "outputs": [],
   "source": [
    "import numpy as np\n",
    "fh = open('/Users/ludo/Desktop/foo.txt', 'rb')\n",
    "ba = bytearray(fh.read())\n"
   ]
  },
  {
   "cell_type": "code",
   "execution_count": null,
   "metadata": {
    "collapsed": true
   },
   "outputs": [],
   "source": [
    "from PIL import Image\n",
    "import numpy as np\n",
    "fh = open('/Users/ludo/Desktop/foo.txt', 'rb')\n",
    "ba = bytearray(fh.read())\n",
    "data = np.array(list(ba)).reshape(84,84,3)\n",
    "img = Image.frombytes('RGB', (84,84), data)\n",
    "img.show()\n"
   ]
  },
  {
   "cell_type": "code",
   "execution_count": null,
   "metadata": {
    "collapsed": true
   },
   "outputs": [],
   "source": [
    "import io\n",
    "fh = open('/Users/ludo/Desktop/Foo.txt', 'rb')\n",
    "s = fh.read()\n",
    "print(len(s))\n",
    "# img = Image.open(io.StringIO(s))\n",
    "nparr = np.fromstring(s, np.uint8)\n",
    "nparr.shape\n",
    "# data = bytes(s)\n",
    "img = Image.frombytes('RGB', (84,84), s)\n"
   ]
  },
  {
   "cell_type": "code",
   "execution_count": null,
   "metadata": {
    "collapsed": true
   },
   "outputs": [],
   "source": [
    "from PIL import Image\n",
    "# import StringIO\n",
    "stream = StringIO.StringIO(s)\n",
    "img = Image.open(stream)\n",
    "img.sizedata = array.array('B', s)\n",
    "# img = Image.frombytes('RGB', (84,84), data)\n"
   ]
  },
  {
   "cell_type": "code",
   "execution_count": null,
   "metadata": {
    "collapsed": true
   },
   "outputs": [],
   "source": [
    "import cv2\n",
    "\n",
    "fn =\"/Users/ludo/Desktop/6f8655d4-cf13-4cfa-8f15-754b37d57937.jpg\"\n",
    "img = cv2.imread(fn)\n",
    "print(img.shape)\n",
    "# resize = ResizeWithAspectRatio(img, width=560) # Resize by width OR\n",
    "cv2.imshow(\"img\", img)\n",
    "cv2.waitKey(30000)\n",
    "cv2.destroyAllWindows()"
   ]
  }
 ],
 "metadata": {
  "kernelspec": {
   "display_name": "animalaienv",
   "language": "python",
   "name": "animalaienv"
  },
  "language_info": {
   "codemirror_mode": {
    "name": "ipython",
    "version": 3
   },
   "file_extension": ".py",
   "mimetype": "text/x-python",
   "name": "python",
   "nbconvert_exporter": "python",
   "pygments_lexer": "ipython3",
   "version": "3.6.2"
  }
 },
 "nbformat": 4,
 "nbformat_minor": 2
}
