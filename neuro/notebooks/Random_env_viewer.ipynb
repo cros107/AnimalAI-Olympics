{
 "cells": [
  {
   "cell_type": "code",
   "execution_count": null,
   "metadata": {
    "collapsed": true,
    "scrolled": true
   },
   "outputs": [],
   "source": [
    "import os\n",
    "import sys\n",
    "# os.chdir('/Users/ludo/Desktop/animalai/animalai')\n",
    "sys.path.insert(0, \"/Users/ludo/Desktop/animalai/animalai/animalai_train\")\n",
    "sys.path.insert(1, \"/Users/ludo/Desktop/animalai/animalai/animalai\")\n",
    "from animalai.envs.gym.environment import AnimalAIGym\n",
    "import random\n",
    "from animalai.envs.arena_config import ArenaConfig\n",
    "\n",
    "import yaml\n",
    "import copy\n",
    "import numpy as np\n",
    "import pandas as pd\n",
    "from matplotlib import pyplot as plt\n",
    "\n",
    "\n",
    "# CONFIG\n",
    "env_path = '../../env/aaiagain'\n",
    "worker_id = 3\n",
    "#random.randint(1, 100)\n",
    "# competition_envs = os.listdir('../competition_configurations/')\n",
    "\n",
    "seed = 1\n",
    "\n",
    "\n",
    "# yaml_path = '../examples/rand_env.yml'\n",
    "# ac = ArenaConfig(yaml_path)\n",
    "# arena_path = \"../../competition_configurations/5-10-3.yml\" #'configurations/curriculum/0.yaml'\n",
    "# arena_path = '../../competition_configurations/9-5-1.yml'\n",
    "arena_path = 'test.yml'\n",
    "# arena_path = '../configurations/ramps/0.yml'\n",
    "\n",
    "# ac = ArenaConfig(arena_path)\n",
    "# ac.arenas[1] = copy.deepcopy(ac.arenas[0])\n",
    "# yaml_path = 'configurations/curriculum4/19.yml'\n",
    "ac = ArenaConfig(arena_path)\n",
    "env = AnimalAIGym(environment_filename=env_path,\n",
    "              worker_id=worker_id,\n",
    "              n_arenas=1,\n",
    "              arenas_configurations=ac,\n",
    "                use_visual=False,\n",
    "                seed=seed,\n",
    "                 grayscale=False,\n",
    "                 resolution=1000)\n",
    "\n",
    "x = env.step([[0,0]])"
   ]
  },
  {
   "cell_type": "code",
   "execution_count": null,
   "metadata": {
    "collapsed": true
   },
   "outputs": [],
   "source": [
    "x = env.reset()\n",
    "# plt.imshow(env.render())"
   ]
  },
  {
   "cell_type": "code",
   "execution_count": null,
   "metadata": {
    "collapsed": true
   },
   "outputs": [],
   "source": [
    "import time\n",
    "for i in range(40):\n",
    "    time.sleep(1)\n",
    "    env.reset()\n",
    "    env.step([[0,0]])\n",
    "    plt.imshow(env.render())\n",
    "    plt.savefig(\"/Users/ludo/Desktop/bam.png\",bbox_inches='tight',transparent=True, pad_inches=0)"
   ]
  },
  {
   "cell_type": "code",
   "execution_count": null,
   "metadata": {
    "collapsed": true
   },
   "outputs": [],
   "source": [
    "print(env._env.ramp_config[0])"
   ]
  },
  {
   "cell_type": "code",
   "execution_count": null,
   "metadata": {
    "collapsed": true
   },
   "outputs": [],
   "source": [
    "import cv2\n",
    "# for i in range(10):\n",
    "#     env.step([[0,2]])\n",
    "plt.imshow(env.render())\n",
    "img = env.render().copy()\n",
    "img = (img*255)[:,:,::-1].astype(np.uint8)\n",
    "hsv_img = cv2.cvtColor(img, cv2.COLOR_BGR2HSV)\n",
    "hsv = hsv_cls.blue\n",
    "mask = cv2.inRange(hsv_img, hsv[0], hsv[1])\n",
    "res = cv2.bitwise_and(hsv_img, hsv_img, mask=mask)[:,:,2]\n",
    "# res[res > 0] = 255\n",
    "res = res/255\n",
    "cv2.imwrite(\"/Users/ludo/Desktop/bam.png\", res)"
   ]
  },
  {
   "cell_type": "code",
   "execution_count": null,
   "metadata": {
    "collapsed": true
   },
   "outputs": [],
   "source": [
    "np.unique(res)"
   ]
  },
  {
   "cell_type": "code",
   "execution_count": null,
   "metadata": {
    "collapsed": true
   },
   "outputs": [],
   "source": [
    "class HSV:\n",
    "\t\"\"\"Color lower and upper bounds in HSV format\"\"\"\n",
    "\n",
    "\t@classmethod\n",
    "\tdef __getattribute__(cls,attr):\n",
    "\t\treturn [np.array(i) for i in getattr(cls, attr)]\n",
    "\n",
    "\tgreen = [[33,80,40], [102,255,255]]\n",
    "\tred = [[0,162,142], [179,203,188]]\n",
    "\tgrey = [[0,0,0], [0,0,224]]\n",
    "\torange = [[20,121,158], [23,255,255]]\n",
    "\tbrown = [[7,53,40], [18,87,121]]\n",
    "\tblue = [[119, 255, 106], [120, 255, 255]]\n",
    "\n",
    "\n",
    "hsv_cls = HSV()\n",
    "# objects['platform'] = hsv_cls.blue\n",
    "\n",
    "# objects = {\n",
    "# \t'goal': hsv_cls.green,\n",
    "# \t# 'danger_zone': hsv_cls.red,\n",
    "# \t# 'wall': hsv_cls.grey,\n",
    "# }\n",
    "# ef.get_contour(objects['goal'])\n",
    "# plt.imshow(ef.hsv_img)"
   ]
  },
  {
   "cell_type": "code",
   "execution_count": null,
   "metadata": {
    "collapsed": true
   },
   "outputs": [],
   "source": [
    "from copy import deepcopy\n",
    "ac = deepcopy(ArenaConfig(arena_path))\n",
    "ac.arenas = {k:v for k,v in ac.arenas.items() if k==1}\n",
    "ac.arenas"
   ]
  },
  {
   "cell_type": "code",
   "execution_count": null,
   "metadata": {
    "collapsed": true
   },
   "outputs": [],
   "source": [
    "env._env.rl_output.agentInfos[\"AnimalAI?team=0\"].value[0].reward"
   ]
  },
  {
   "cell_type": "code",
   "execution_count": null,
   "metadata": {
    "collapsed": true
   },
   "outputs": [],
   "source": [
    "os.chdir('..')\n",
    "import time\n",
    "from config import COMPETITION_CONFIGS as comp\n",
    "for i in comp['Numerosity']:\n",
    "    print(i)\n",
    "    yaml_path = f'../competition_configurations/{i}.yml'\n",
    "    ac = ArenaConfig(yaml_path)    \n",
    "    env.reset(ac)\n",
    "    for i in range(30):\n",
    "        env.step([0,0])\n",
    "    time.sleep(1)"
   ]
  },
  {
   "cell_type": "code",
   "execution_count": null,
   "metadata": {
    "collapsed": true
   },
   "outputs": [],
   "source": [
    "env.close()"
   ]
  },
  {
   "cell_type": "code",
   "execution_count": null,
   "metadata": {
    "collapsed": true
   },
   "outputs": [],
   "source": [
    "x[3]['batched_step_result'].reward\n"
   ]
  },
  {
   "cell_type": "code",
   "execution_count": null,
   "metadata": {
    "collapsed": true,
    "scrolled": true
   },
   "outputs": [],
   "source": [
    "from animalai.envs.cvis_img import ExtractFeatures\n",
    "ef = ExtractFeatures(display=True, training=False)\n",
    "y = ef.run_mask(env.render())\n",
    "plt.imshow(ef.img[:,:,::-1])\n",
    "plt.savefig('/Users/ludo/Desktop/rand_env.png',bbox_inches='tight',transparent=True, pad_inches=0)\n"
   ]
  },
  {
   "cell_type": "code",
   "execution_count": null,
   "metadata": {
    "collapsed": true
   },
   "outputs": [],
   "source": [
    "def goal_over(bb1, bb2):\n",
    "    if 'goal' in bb2[1]:\n",
    "        return False\n",
    "    if get_distance(bb1[0], bb2[0])<0.005:\n",
    "        print('ye')\n",
    "\n",
    "        if bb1[0][1]<bb2[0][1]:\n",
    "            print('naa')\n",
    "            return True\n",
    "    return False\n",
    "goal_over(y['goal1'][2], y['platform'][0])"
   ]
  },
  {
   "cell_type": "code",
   "execution_count": null,
   "metadata": {
    "collapsed": true
   },
   "outputs": [],
   "source": [
    "from animalai.envs.cvis import ExtractFeatures\n",
    "ef = ExtractFeatures(display=True, training=False)\n",
    "data = x[3]['batched_step_result'].obs[0][0]\n",
    "print(ef.run(data))\n",
    "plt.imshow(ef.img)"
   ]
  },
  {
   "cell_type": "code",
   "execution_count": null,
   "metadata": {
    "collapsed": true
   },
   "outputs": [],
   "source": [
    "class HSV:\n",
    "\t\"\"\"Color lower and upper bounds in HSV format\"\"\"\n",
    "\n",
    "\t@classmethod\n",
    "\tdef __getattribute__(cls,attr):\n",
    "\t\treturn [np.array(i) for i in getattr(cls, attr)]\n",
    "\n",
    "\tgreen = [[33,80,40], [102,255,255]]\n",
    "\t# red = [[0,181,0], [6,255,255]]\n",
    "\t# red = [[0,184,0], [179,208,217]]\n",
    "\tred = [[125,16,88], [179,255,255]]\n",
    "\tgrey = [[0,0,0], [0,0,224]]\n",
    "\tbrown = [[7,53,40], [18,87,121]]\n",
    "\n",
    "hsv_cls = HSV()\n",
    "objects = {\n",
    "\t'goal': hsv_cls.green,\n",
    "\t# 'danger_zone': hsv_cls.red,\n",
    "\t# 'wall': hsv_cls.grey,\n",
    "}\n",
    "ef.get_contour(objects['goal'])\n",
    "plt.imshow(ef.hsv_img)"
   ]
  },
  {
   "cell_type": "code",
   "execution_count": null,
   "metadata": {
    "collapsed": true
   },
   "outputs": [],
   "source": [
    "# env._env.DEFAULT_EDITOR_PORT\n",
    "x[3]['batched_step_result'].obs[1].reshape(-1,9)[[0,11,22]][:, 0:6].flatten()"
   ]
  },
  {
   "cell_type": "code",
   "execution_count": null,
   "metadata": {
    "collapsed": true,
    "scrolled": true
   },
   "outputs": [],
   "source": [
    "env.close()"
   ]
  },
  {
   "cell_type": "code",
   "execution_count": null,
   "metadata": {
    "collapsed": true,
    "scrolled": false
   },
   "outputs": [],
   "source": [
    "env.reset()\n",
    "for _ in range(1):\n",
    "    x = env.step([[0,0]])\n",
    "    res = x[3]['batched_step_result'].obs[1][0]\n",
    "    plt.axis('off')\n",
    "    plt.imshow(res)\n",
    "#     plt.savefig('rand_env.png',bbox_inches='tight',transparent=True, pad_inches=0)\n",
    "    plt.show()\n",
    "    res = x[3]['batched_step_result'].obs[1][1]\n",
    "    plt.axis('off')\n",
    "    plt.imshow(res)\n",
    "#     plt.savefig('rand_env.png',bbox_inches='tight',transparent=True, pad_inches=0)\n",
    "    plt.show()    "
   ]
  },
  {
   "cell_type": "code",
   "execution_count": 1,
   "metadata": {
    "scrolled": false
   },
   "outputs": [
    {
     "name": "stdout",
     "output_type": "stream",
     "text": [
      "USING LOCAL LIBRARY\n"
     ]
    },
    {
     "name": "stderr",
     "output_type": "stream",
     "text": [
      "INFO:mlagents_envs:Connected to Unity environment with package version 0.15.0-preview and communication version 0.15.0\n"
     ]
    }
   ],
   "source": [
    "import sys\n",
    "sys.path.insert(0, \"/Users/ludo/Desktop/animalai/animalai/animalai_train\")\n",
    "sys.path.insert(1, \"/Users/ludo/Desktop/animalai/animalai/animalai\")\n",
    "from animalai.envs.gym.environment import AnimalAIGym\n",
    "import random\n",
    "from animalai.envs.arena_config import ArenaConfig\n",
    "\n",
    "import os\n",
    "import yaml\n",
    "import copy\n",
    "import numpy as np\n",
    "import pandas as pd\n",
    "from matplotlib import pyplot as plt\n",
    "\n",
    "from animalai.envs.environment import AnimalAIEnvironment\n",
    "\n",
    "# CONFIG\n",
    "env_path = '../../env/AnimalAI'\n",
    "# env_path = '../env/AnimalAI'\n",
    "\n",
    "worker_id = 2\n",
    "seed = 1\n",
    "# yaml_path = '../configurations/ramps/0.yml'\n",
    "\n",
    "# yaml_path = '../../competition_configurations/3-18-3.yml'\n",
    "# yaml_path = '../configurations/curriculum12/112.yml'\n",
    "# yaml_path = \"../../competition_configurations/5-8-3.yml\" #'configurations/curriculum/0.yaml'\n",
    "yaml_path = \"../configurations/curriculum4/35.yml\"\n",
    "\n",
    "ac = ArenaConfig(yaml_path)\n",
    "\n",
    "env = AnimalAIEnvironment(\n",
    "                    file_name=env_path,\n",
    "                    arenas_configurations = ac,\n",
    "                    worker_id=worker_id,\n",
    "                    play=True, base_port=5002,\n",
    "                    alter_obs = False\n",
    "                    )\n",
    "# env = AnimalAIGym(environment_filename=env_path,\n",
    "#               worker_id=worker_id,\n",
    "#               n_arenas=1,\n",
    "#               arenas_configurations=ac,\n",
    "\n",
    "#                 seed=seed,\n",
    "#                  grayscale=False)\n",
    "x = env.step()\n",
    "\n",
    "# plt.axis('off')\n",
    "# plt.imshow(env.visual_obs)\n",
    "# plt.savefig('rand_env.png',bbox_inches='tight',transparent=True, pad_inches=0)\n"
   ]
  },
  {
   "cell_type": "code",
   "execution_count": null,
   "metadata": {
    "collapsed": true
   },
   "outputs": [],
   "source": [
    "env.close()"
   ]
  },
  {
   "cell_type": "code",
   "execution_count": null,
   "metadata": {
    "collapsed": true
   },
   "outputs": [],
   "source": [
    "env.get_step_result('')"
   ]
  },
  {
   "cell_type": "code",
   "execution_count": null,
   "metadata": {
    "collapsed": true
   },
   "outputs": [],
   "source": [
    "env.get_step_result('AnimalAI?team=0').done\n"
   ]
  },
  {
   "cell_type": "code",
   "execution_count": null,
   "metadata": {
    "collapsed": true
   },
   "outputs": [],
   "source": [
    "from copy import deepcopy\n",
    "\n",
    "# yaml_path = '../../competition_configurations/3-18-3.yml'\n",
    "# yaml_path = '../configurations/curriculum12/112.yml'\n",
    "yaml_path = \"../../competition_configurations/5-8-3.yml\" #'configurations/curriculum/0.yaml'\n",
    "# yaml_path = 'test.yml'\n",
    "\n",
    "ac = deepcopy(ArenaConfig(yaml_path))\n",
    "# ac.arenas = {0:v for k,v in ac.arenas.items() if k==2}\n"
   ]
  },
  {
   "cell_type": "code",
   "execution_count": null,
   "metadata": {
    "collapsed": true
   },
   "outputs": [],
   "source": [
    "arenas_configurations_proto = ac.to_proto()\n",
    "arenas_configurations_proto_string = arenas_configurations_proto.SerializeToString(\n",
    "    deterministic=True\n",
    ")\n",
    "env.arenas_parameters_side_channel.send_raw_data(\n",
    "    bytearray(arenas_configurations_proto_string)\n",
    ")\n"
   ]
  },
  {
   "cell_type": "code",
   "execution_count": null,
   "metadata": {
    "collapsed": true
   },
   "outputs": [],
   "source": [
    "env.reset()"
   ]
  },
  {
   "cell_type": "code",
   "execution_count": null,
   "metadata": {
    "collapsed": true
   },
   "outputs": [],
   "source": [
    "ac.arenas[2]."
   ]
  },
  {
   "cell_type": "code",
   "execution_count": null,
   "metadata": {
    "collapsed": true
   },
   "outputs": [],
   "source": [
    "0 is ascending towards bottom\n",
    "90 is ascending towards left\n",
    "180 ascending towards top\n",
    "270 ascending towards right\n",
    "\n"
   ]
  }
 ],
 "metadata": {
  "kernelspec": {
   "display_name": "animalaienv",
   "language": "python",
   "name": "animalaienv"
  },
  "language_info": {
   "codemirror_mode": {
    "name": "ipython",
    "version": 3
   },
   "file_extension": ".py",
   "mimetype": "text/x-python",
   "name": "python",
   "nbconvert_exporter": "python",
   "pygments_lexer": "ipython3",
   "version": "3.6.2"
  }
 },
 "nbformat": 4,
 "nbformat_minor": 2
}
