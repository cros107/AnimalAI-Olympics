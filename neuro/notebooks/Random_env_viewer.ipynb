{
 "cells": [
  {
   "cell_type": "code",
   "execution_count": null,
   "metadata": {
    "scrolled": true
   },
   "outputs": [],
   "source": [
    "import os\n",
    "import sys\n",
    "# os.chdir('/Users/ludo/Desktop/animalai/animalai')\n",
    "sys.path.insert(0, \"/Users/ludo/Desktop/animalai/animalai/animalai_train\")\n",
    "sys.path.insert(1, \"/Users/ludo/Desktop/animalai/animalai/animalai\")\n",
    "from animalai.envs.gym.environment import AnimalAIGym\n",
    "import random\n",
    "from animalai.envs.arena_config import ArenaConfig\n",
    "\n",
    "import yaml\n",
    "import copy\n",
    "import numpy as np\n",
    "import pandas as pd\n",
    "from matplotlib import pyplot as plt\n",
    "\n",
    "\n",
    "# CONFIG\n",
    "env_path = '../../env/aaiagain'\n",
    "worker_id = 3\n",
    "#random.randint(1, 100)\n",
    "# competition_envs = os.listdir('../competition_configurations/')\n",
    "\n",
    "seed = 1\n",
    "\n",
    "\n",
    "# yaml_path = '../examples/rand_env.yml'\n",
    "# ac = ArenaConfig(yaml_path)\n",
    "# arena_path = \"../../competition_configurations/2-3-1.yml\" #'configurations/curriculum/0.yaml'\n",
    "# arena_path = '../../competition_configurations/9-5-1.yml'\n",
    "arena_path = '../training_set/ymaze2.yml'\n",
    "# arena_path = '../configurations/ramps/0.yml'\n",
    "\n",
    "# ac = ArenaConfig(arena_path)\n",
    "# ac.arenas[1] = copy.deepcopy(ac.arenas[0])\n",
    "# yaml_path = 'configurations/curriculum4/19.yml'\n",
    "ac = ArenaConfig(arena_path)\n",
    "env = AnimalAIGym(environment_filename=env_path,\n",
    "              worker_id=worker_id,\n",
    "              n_arenas=1,\n",
    "              arenas_configurations=ac,\n",
    "                use_visual=False,\n",
    "                seed=seed,\n",
    "                 grayscale=False,\n",
    "                 resolution=84)\n",
    "\n",
    "x = env.step([[0,0]])"
   ]
  },
  {
   "cell_type": "code",
   "execution_count": null,
   "metadata": {
    "collapsed": true
   },
   "outputs": [],
   "source": [
    "import os\n",
    "os.chdir('..')"
   ]
  },
  {
   "cell_type": "code",
   "execution_count": null,
   "metadata": {},
   "outputs": [],
   "source": [
    "from animalai.envs.cvis import ExtractFeatures\n",
    "# from utils import goal_on_platform as gop\n",
    "# arena_path = \"../../competition_configurations/2-3-1.yml\" #'configurations/curriculum/0.yaml'\n",
    "# ac = ArenaConfig(arena_path)\n",
    "env._env.train =False\n",
    "env.reset(ac)\n",
    "\n",
    "plt.imshow(env.render())\n",
    "\n",
    "ef = ExtractFeatures(display=False, training=False)\n",
    "# for i in range(20):\n",
    "\n",
    "state = ef.run(env.render())\n",
    "#     goals = state['goal1']\n",
    "#     if len(goals)>1:\n",
    "#         count = [i for i in goals if i[1]]\n",
    "#         left = [i for i in count if i[0][0]<0.5]\n",
    "#         right = [i for i in count if i[0][0]>0.5]\n",
    "#         direction = \"left\" if len(left)>len(right) else 'right'\n",
    "# #         print( f\"more_goals({direction}).\\n\")\n",
    "#         print(direction)\n",
    "def goal_on_platform(state):\n",
    "    img = state['visual_obs']\n",
    "    dim = img.shape[0]\n",
    "    state = ef.run(img)\n",
    "    if not state['goal']:\n",
    "        return None\n",
    "    goal = state['goal'][0][0]\n",
    "    under_goal = [goal[0], goal[1]+goal[3], goal[2], goal[3]]\n",
    "    selector = [dim*(under_goal[0]), dim*(under_goal[1]), dim*under_goal[2], dim*under_goal[3]]\n",
    "    selector = [int(np.ceil(i)) for i in selector]\n",
    "    res = img[selector[1]:selector[1]+selector[3],selector[0]:selector[0]+selector[2],:]\n",
    "    res = img[1:1,1:2,:]\n",
    "    plt.imshow(res)\n",
    "    res = ef.run(res)\n",
    "    print(res)\n",
    "    if bool(res['platform']):\n",
    "        return True\n",
    "    return False\n",
    "goal_on_platform({'visual_obs':env.render()})\n"
   ]
  },
  {
   "cell_type": "code",
   "execution_count": null,
   "metadata": {},
   "outputs": [],
   "source": [
    "goal = state['goal'][0][0]\n",
    "# under_goal=goal\n",
    "under_goal = [goal[0], goal[1]+goal[3], goal[2], goal[3]]\n",
    "print(under_goal)\n",
    "# x = env.render()\n",
    "selector = [84*(under_goal[0]), 84*(under_goal[1]), 84*under_goal[2], 84*under_goal[3]]\n",
    "selector = [int(np.ceil(i)) for i in selector]\n",
    "print(selector)\n",
    "res= x[selector[1]:selector[1]+selector[3],selector[0]:selector[0]+selector[2],:]\n",
    "res = x[50:51, 40:41,:]\n",
    "plt.imshow(res)\n",
    "\n",
    "ef.run(res)"
   ]
  },
  {
   "cell_type": "code",
   "execution_count": null,
   "metadata": {},
   "outputs": [],
   "source": [
    "# If top-left inner box corner is inside the bounding box\n",
    "def box_in(bb1, bb2):\n",
    "    innerb = {'x':bb1[0], 'y':bb1[1],'width':bb1[2], 'heigher':bb1[3]}\n",
    "    boundb = {'x':bb2[0], 'y':bb2[1],'width':bb2[2], 'heigher':bb2[3]}\n",
    "    if boundb['x'] < innerb['x'] and boundb['y'] < innerb['y']:\n",
    "        print('yep')\n",
    "        # If bottom-right inner box corner is inside the bounding box\n",
    "        if innerb['x'] + innerb['width'] < boundb['x'] + boundb['width'] \\\n",
    "                and innerb['y'] + innerb['height'] < boundb['y'] + boundb['height']:\n",
    "            print('The entire box is inside the bounding box.')\n",
    "        else:\n",
    "            print('Some part of the box is outside the bounding box.')\n",
    "    else:\n",
    "        print('na')\n",
    "box_in(under_goal, state['platform'][0][0])"
   ]
  },
  {
   "cell_type": "code",
   "execution_count": null,
   "metadata": {},
   "outputs": [],
   "source": [
    "# yaml_path = f\"../../competition_configurations/8-19-2.yml\"\n",
    "yaml_path = '../training_set/numerosity.yml'\n",
    "\n",
    "ac = ArenaConfig(yaml_path)\n",
    "env.reset(ac)\n",
    "plt.imshow(env.render())\n",
    "def convert_dimensions(func):\n",
    "    def wrapper(*dimensions):\n",
    "        \"\"\"Convert from x,y,w,h to x1, x2, y1, y2\"\"\"\n",
    "        # x is top left corner\n",
    "        res = []\n",
    "        for dims in dimensions:\n",
    "            x1, y1 = dims[0], dims[1] #x, y\n",
    "            x2 = x1 + dims[2] #w\n",
    "            y2 = y1 + dims[3] #h\n",
    "            res.append({'x1': x1, 'y1':y1, 'x2':x2, 'y2':y2})\n",
    "\n",
    "\n",
    "        return func(*res)\n",
    "    return wrapper\n",
    "@convert_dimensions\n",
    "def get_distance(dims1, dims2):\n",
    "    \"\"\"Get shortest distance between two rectangles\"\"\"\n",
    "\n",
    "    x1, y1, x1b, y1b = dims1.values()\n",
    "    x2, y2, x2b, y2b = dims2.values()\n",
    "    left = x2b < x1\n",
    "    right = x1b < x2\n",
    "    bottom = y2b < y1\n",
    "    top = y1b < y2\n",
    "    dist = lambda x,y: np.linalg.norm(np.array(x)-np.array(y))\n",
    "    if top and left:\n",
    "        return dist((x1, y1b), (x2b, y2))\n",
    "    elif left and bottom:\n",
    "        return dist((x1, y1), (x2b, y2b))\n",
    "    elif bottom and right:\n",
    "        return dist((x1b, y1), (x2, y2b))\n",
    "    elif right and top:\n",
    "        return dist((x1b, y1b), (x2, y2))\n",
    "    elif left:\n",
    "        return x1 - x2b\n",
    "    elif right:\n",
    "        return x2 - x1b\n",
    "    elif bottom:\n",
    "        return y1 - y2b\n",
    "    elif top:\n",
    "        return y2 - y1b\n",
    "    else:             # rectangles intersect\n",
    "        return 0.\n",
    "@convert_dimensions\n",
    "def get_overlap(bb1, bb2):\n",
    "    \"\"\"\n",
    "    Calculate the Intersection over Union (IoU) of two bounding boxes.\n",
    "\n",
    "    Parameters\n",
    "    ----------\n",
    "    bb1 : dict\n",
    "        Keys: {'x1', 'x2', 'y1', 'y2'}\n",
    "        The (x1, y1) position is at the top left corner,\n",
    "        the (x2, y2) position is at the bottom right corner\n",
    "    bb2 : dict\n",
    "        Keys: {'x1', 'x2', 'y1', 'y2'}\n",
    "        The (x, y) position is at the top left corner,\n",
    "        the (x2, y2) position is at the bottom right corner\n",
    "\n",
    "    Returns\n",
    "    -------\n",
    "    float\n",
    "        in [0, 1]\n",
    "    \"\"\"\n",
    "    # assert bb1['x1'] < bb1['x2']\n",
    "    # assert bb1['y1'] < bb1['y2']\n",
    "    # assert bb2['x1'] < bb2['x2']\n",
    "    # assert bb2['y1'] < bb2['y2']\n",
    "\n",
    "    # determine the coordinates of the intersection rectangle\n",
    "    x_left = max(bb1['x1'], bb2['x1'])\n",
    "    y_top = max(bb1['y1'], bb2['y1'])\n",
    "    x_right = min(bb1['x2'], bb2['x2'])\n",
    "    y_bottom = min(bb1['y2'], bb2['y2'])\n",
    "\n",
    "    if x_right < x_left or y_bottom < y_top:\n",
    "        return 0.0\n",
    "\n",
    "    # The intersection of two axis-aligned bounding boxes is always an\n",
    "    # axis-aligned bounding box\n",
    "    intersection_area = (x_right - x_left) * (y_bottom - y_top)\n",
    "\n",
    "    # compute the area of both AABBs\n",
    "    bb1_area = (bb1['x2'] - bb1['x1']) * (bb1['y2'] - bb1['y1'])\n",
    "    bb2_area = (bb2['x2'] - bb2['x1']) * (bb2['y2'] - bb2['y1'])\n",
    "\n",
    "    # compute the intersection over union by taking the intersection\n",
    "    # area and dividing it by the sum of prediction + ground-truth\n",
    "    # areas - the interesection area\n",
    "    iou = intersection_area / float(bb1_area + bb2_area - intersection_area)\n",
    "    assert iou >= 0.0\n",
    "    assert iou <= 1.0\n",
    "    return iou"
   ]
  },
  {
   "cell_type": "code",
   "execution_count": null,
   "metadata": {},
   "outputs": [],
   "source": [
    "from animalai.envs.cvis import ExtractFeatures\n",
    "ef = ExtractFeatures(display=False, training=False)\n",
    "state = ef.run(env.render())\n",
    "goals = [state['goal'][0][0]]#[i[0] for i in state['obj'] if i[1]=='goal']\n",
    "lava = [i[0] for i in state['lava']]#[i[0] for i in state['obj'] if i[1]=='lava']\n",
    "# goals = [[i[0], i[1], i[w]]] \n",
    "goals = [[i[0]-0.1,i[1], i[2]+0.2, 1-i[1]] for i in goals]\n",
    "for i in goals:\n",
    "    for j in lava:\n",
    "#         print(i,j)\n",
    "        print(get_overlap(i,j))"
   ]
  },
  {
   "cell_type": "code",
   "execution_count": null,
   "metadata": {},
   "outputs": [],
   "source": [
    "from animalai.envs.cvis import ExtractFeatures\n",
    "ef = ExtractFeatures(display=False, training=False)\n",
    "def first_steps(env):\n",
    "    moving = False\n",
    "    move_count = 0\n",
    "    obj = ef.run(env.render())\n",
    "    for i in range(5):\n",
    "        res = env.step([0,0])\n",
    "        obj_1 = ef.run(env.render())\n",
    "        for v,v1 in zip(obj.values(), obj_1.values()):\n",
    "            if v:\n",
    "                o = sum(v[0][0])#* v[0][0][1]\n",
    "                o1 = sum(v1[0][0])#* v1[0][0][1]\n",
    "                if 'goal'==v1[0][1]:\n",
    "                    print(v1[0])\n",
    "                if o1!=o:\n",
    "                    move_count+=1\n",
    "        obj = obj_1\n",
    "        if move_count>1:\n",
    "            moving = True\n",
    "            break\n",
    "    print(\"MOV\", move_count)\n",
    "    return res, moving\n",
    "first_steps(env)"
   ]
  },
  {
   "cell_type": "code",
   "execution_count": null,
   "metadata": {},
   "outputs": [],
   "source": [
    "from animalai.envs.cvis import ExtractFeatures\n",
    "ef = ExtractFeatures(display=False, training=False)\n",
    "env.reset()\n",
    "obj = ef.run(env.render())\n",
    "move_count = 0\n",
    "# for i in range(10):\n",
    "#     env.step([2,0])\n",
    "\n",
    "plt.imshow(env.render())\n",
    "# img = env.render()\n",
    "# img = (img*255)[:,:,::-1].astype(np.uint8)\n",
    "# img = cv2.cvtColor(img, cv2.COLOR_BGR2HSV)\n",
    "# # plt.imshow(ef.img)\n",
    "# import cv2\n",
    "# cv2.countNonZero(img)"
   ]
  },
  {
   "cell_type": "code",
   "execution_count": null,
   "metadata": {},
   "outputs": [],
   "source": [
    "# for i in range(10):\n",
    "#     x = env.step([0,0])\n",
    "bool(np.max(x[0]))\n",
    "# plt.imshow(env.render())\n"
   ]
  },
  {
   "cell_type": "code",
   "execution_count": null,
   "metadata": {},
   "outputs": [],
   "source": [
    "ac.arenas[0].t"
   ]
  },
  {
   "cell_type": "code",
   "execution_count": null,
   "metadata": {
    "collapsed": true,
    "scrolled": false
   },
   "outputs": [],
   "source": [
    "os.chdir('..')\n",
    "import config as cfg\n",
    "ramps = sorted(cfg.COMPETITION_CONFIGS['Ramp Usage'])\n",
    "\n",
    "for i in ramps:\n",
    "    yaml_path = f\"../competition_configurations/{i}.yml\"\n",
    "    print(i)\n",
    "    ac = ArenaConfig(yaml_path)\n",
    "    env.reset(ac)\n",
    "    plt.imshow(env.render())\n",
    "    plt.show()\n",
    "# plt.savefig('rand_env.png',bbox_inches='tight',transparent=True, pad_inches=0)\n",
    "\n",
    "# env._env.arenas_obj_config_side_channel.arenas_config"
   ]
  },
  {
   "cell_type": "code",
   "execution_count": null,
   "metadata": {},
   "outputs": [],
   "source": [
    "import time\n",
    "for i in range(10):\n",
    "    x = env.step([[1,1]])\n",
    "    print(i, x[3]['batched_step_result'].obs[1][0][1])\n",
    "plt.imshow(env.render())\n",
    "# plt.savefig(\"/Users/ludo/Desktop/bam.png\",bbox_inches='tight',transparent=True, pad_inches=0)"
   ]
  },
  {
   "cell_type": "code",
   "execution_count": null,
   "metadata": {},
   "outputs": [],
   "source": []
  },
  {
   "cell_type": "code",
   "execution_count": null,
   "metadata": {
    "collapsed": true
   },
   "outputs": [],
   "source": [
    "import os\n",
    "os.chdir('..')\n",
    "import sys\n",
    "sys.path.insert(0, \"/Users/ludo/Desktop/animalai/animalai/animalai_train\")\n",
    "sys.path.insert(1, \"/Users/ludo/Desktop/animalai/animalai/animalai\")"
   ]
  },
  {
   "cell_type": "code",
   "execution_count": null,
   "metadata": {
    "scrolled": false
   },
   "outputs": [],
   "source": [
    "from animalai.envs.cvis import ExtractFeatures\n",
    "from matplotlib import pyplot as plt\n",
    "import cv2\n",
    "ef = ExtractFeatures(display=True, training=False)\n",
    "\n",
    "for i in os.listdir('./fake_test'):\n",
    "    img = cv2.imread(f'./fake_test/{i}')[60:415, 145:505,:]\n",
    "#     plt.imshow(img[:,:,::-1])\n",
    "#     plt.show()\n",
    "#     print(i)\n",
    "    bb = ef.run(img[:,:,::-1]/255)\n",
    "    if(any(len(bb[i])>1 for i in bb)):\n",
    "#         msk = ef.run(img[:,:,::-1]/255, mode='mask',mask='ramp')\n",
    "#     print(len(ef.run(img[:,:,::-1]/255)['ramp']), i)\n",
    "        print(i)\n",
    "        print(bb['wall'])\n",
    "\n",
    "        plt.imshow(ef.img[:,:,::-1])\n",
    "        plt.show()\n",
    "#         plt.imshow(msk[:,:])\n",
    "#         plt.show()"
   ]
  },
  {
   "cell_type": "code",
   "execution_count": null,
   "metadata": {
    "collapsed": true
   },
   "outputs": [],
   "source": [
    "bb"
   ]
  },
  {
   "cell_type": "code",
   "execution_count": null,
   "metadata": {
    "collapsed": true
   },
   "outputs": [],
   "source": [
    "import cv2\n",
    "# for i in range(10):\n",
    "#     env.step([[0,2]])\n",
    "plt.imshow(env.render())\n",
    "img = env.render().copy()\n",
    "img = (img*255)[:,:,::-1].astype(np.uint8)\n",
    "hsv_img = cv2.cvtColor(img, cv2.COLOR_BGR2HSV)\n",
    "hsv = hsv_cls.blue\n",
    "mask = cv2.inRange(hsv_img, hsv[0], hsv[1])\n",
    "res = cv2.bitwise_and(hsv_img, hsv_img, mask=mask)[:,:,2]\n",
    "# res[res > 0] = 255\n",
    "res = res/255\n",
    "cv2.imwrite(\"/Users/ludo/Desktop/bam.png\", res)"
   ]
  },
  {
   "cell_type": "code",
   "execution_count": null,
   "metadata": {
    "collapsed": true
   },
   "outputs": [],
   "source": [
    ":~ initiate(rotate).[-1@1]\n",
    ":~ initiate(balance(V2,V3)), on(agent,V1).[-1@3, V1, V2, V3]\n",
    ":~ initiate(climb(V1)), ramp(V1).[-1@2, V1]\n",
    "\n",
    "%%%%%%%%%%%%%%%%%%%%%%%%%%%%%%%%%%%%%%%%%%%%%%%%%%%%%%%%%%%%%%%%%%%%%%%%%%%%%%%%\n",
    "%% Pre-processing                          : 0.001s\n",
    "%% Hypothesis Space Generation             : 1.865s\n",
    "%% Conflict analysis                       : 17.262s\n",
    "%%   - Brave Orders                        : 17.262s\n",
    "%% Counterexample search                   : 1.747s\n",
    "%%   - CDOEs                               : 0.891s\n",
    "%%   - CDPIs                               : 0.855s\n",
    "%% Hypothesis Search                       : 90.796s\n",
    "%% Propagation                             : 27.035s\n",
    "%%   - CDOEs                               : 27.035s\n",
    "%% Total                                   : 142.657s\n",
    "%%%%%%%%%%%%%%%%%%%%%%%%%%%%%%%%%%%%%%%%%%%%%%%%%%%%%%%%%%%%%%%%%%%%%%%%%%%%%%%%"
   ]
  },
  {
   "cell_type": "code",
   "execution_count": null,
   "metadata": {
    "collapsed": true
   },
   "outputs": [],
   "source": [
    "class HSV:\n",
    "\t\"\"\"Color lower and upper bounds in HSV format\"\"\"\n",
    "\n",
    "\t@classmethod\n",
    "\tdef __getattribute__(cls,attr):\n",
    "\t\treturn [np.array(i) for i in getattr(cls, attr)]\n",
    "\n",
    "\tgreen = [[33,80,40], [102,255,255]]\n",
    "\tred = [[0,162,142], [179,203,188]]\n",
    "\tgrey = [[0,0,0], [0,0,224]]\n",
    "\torange = [[20,121,158], [23,255,255]]\n",
    "\tbrown = [[7,53,40], [18,87,121]]\n",
    "\tblue = [[119, 255, 106], [120, 255, 255]]\n",
    "\n",
    "\n",
    "hsv_cls = HSV()\n",
    "# objects['platform'] = hsv_cls.blue\n",
    "\n",
    "# objects = {\n",
    "# \t'goal': hsv_cls.green,\n",
    "# \t# 'danger_zone': hsv_cls.red,\n",
    "# \t# 'wall': hsv_cls.grey,\n",
    "# }\n",
    "# ef.get_contour(objects['goal'])\n",
    "# plt.imshow(ef.hsv_img)"
   ]
  },
  {
   "cell_type": "code",
   "execution_count": null,
   "metadata": {
    "collapsed": true
   },
   "outputs": [],
   "source": [
    "from copy import deepcopy\n",
    "ac = deepcopy(ArenaConfig(arena_path))\n",
    "ac.arenas = {k:v for k,v in ac.arenas.items() if k==1}\n",
    "ac.arenas"
   ]
  },
  {
   "cell_type": "code",
   "execution_count": null,
   "metadata": {
    "collapsed": true
   },
   "outputs": [],
   "source": [
    "env._env.rl_output.agentInfos[\"AnimalAI?team=0\"].value[0].reward"
   ]
  },
  {
   "cell_type": "code",
   "execution_count": null,
   "metadata": {
    "collapsed": true
   },
   "outputs": [],
   "source": [
    "os.chdir('..')\n",
    "import time\n",
    "from config import COMPETITION_CONFIGS as comp\n",
    "for i in comp['Numerosity']:\n",
    "    print(i)\n",
    "    yaml_path = f'../competition_configurations/{i}.yml'\n",
    "    ac = ArenaConfig(yaml_path)    \n",
    "    env.reset(ac)\n",
    "    for i in range(30):\n",
    "        env.step([0,0])\n",
    "    time.sleep(1)"
   ]
  },
  {
   "cell_type": "code",
   "execution_count": null,
   "metadata": {
    "collapsed": true
   },
   "outputs": [],
   "source": [
    "env.close()"
   ]
  },
  {
   "cell_type": "code",
   "execution_count": null,
   "metadata": {
    "collapsed": true
   },
   "outputs": [],
   "source": [
    "x[3]['batched_step_result'].reward\n"
   ]
  },
  {
   "cell_type": "code",
   "execution_count": null,
   "metadata": {
    "collapsed": true,
    "scrolled": true
   },
   "outputs": [],
   "source": [
    "from animalai.envs.cvis_img import ExtractFeatures\n",
    "ef = ExtractFeatures(display=True, training=False)\n",
    "y = ef.run_mask(env.render())\n",
    "plt.imshow(ef.img[:,:,::-1])\n",
    "plt.savefig('/Users/ludo/Desktop/rand_env.png',bbox_inches='tight',transparent=True, pad_inches=0)\n"
   ]
  },
  {
   "cell_type": "code",
   "execution_count": null,
   "metadata": {
    "collapsed": true
   },
   "outputs": [],
   "source": [
    "from animalai.envs.cvis import ExtractFeatures\n",
    "ef = ExtractFeatures(display=True, training=False)\n",
    "data = x[3]['batched_step_result'].obs[0][0]\n",
    "print(ef.run(data))\n",
    "plt.imshow(ef.img)"
   ]
  },
  {
   "cell_type": "code",
   "execution_count": null,
   "metadata": {
    "collapsed": true
   },
   "outputs": [],
   "source": [
    "class HSV:\n",
    "\t\"\"\"Color lower and upper bounds in HSV format\"\"\"\n",
    "\n",
    "\t@classmethod\n",
    "\tdef __getattribute__(cls,attr):\n",
    "\t\treturn [np.array(i) for i in getattr(cls, attr)]\n",
    "\n",
    "\tgreen = [[33,80,40], [102,255,255]]\n",
    "\t# red = [[0,181,0], [6,255,255]]\n",
    "\t# red = [[0,184,0], [179,208,217]]\n",
    "\tred = [[125,16,88], [179,255,255]]\n",
    "\tgrey = [[0,0,0], [0,0,224]]\n",
    "\tbrown = [[7,53,40], [18,87,121]]\n",
    "\n",
    "hsv_cls = HSV()\n",
    "objects = {\n",
    "\t'goal': hsv_cls.green,\n",
    "\t# 'danger_zone': hsv_cls.red,\n",
    "\t# 'wall': hsv_cls.grey,\n",
    "}\n",
    "ef.get_contour(objects['goal'])\n",
    "plt.imshow(ef.hsv_img)"
   ]
  },
  {
   "cell_type": "code",
   "execution_count": null,
   "metadata": {
    "collapsed": true
   },
   "outputs": [],
   "source": [
    "# env._env.DEFAULT_EDITOR_PORT\n",
    "x[3]['batched_step_result'].obs[1].reshape(-1,9)[[0,11,22]][:, 0:6].flatten()"
   ]
  },
  {
   "cell_type": "code",
   "execution_count": null,
   "metadata": {
    "collapsed": true,
    "scrolled": true
   },
   "outputs": [],
   "source": [
    "env.close()"
   ]
  },
  {
   "cell_type": "code",
   "execution_count": null,
   "metadata": {
    "collapsed": true,
    "scrolled": false
   },
   "outputs": [],
   "source": [
    "env.reset()\n",
    "for _ in range(1):\n",
    "    x = env.step([[0,0]])\n",
    "    res = x[3]['batched_step_result'].obs[1][0]\n",
    "    plt.axis('off')\n",
    "    plt.imshow(res)\n",
    "#     plt.savefig('rand_env.png',bbox_inches='tight',transparent=True, pad_inches=0)\n",
    "    plt.show()\n",
    "    res = x[3]['batched_step_result'].obs[1][1]\n",
    "    plt.axis('off')\n",
    "    plt.imshow(res)\n",
    "#     plt.savefig('rand_env.png',bbox_inches='tight',transparent=True, pad_inches=0)\n",
    "    plt.show()    "
   ]
  },
  {
   "cell_type": "code",
   "execution_count": null,
   "metadata": {
    "scrolled": true
   },
   "outputs": [],
   "source": [
    "import sys\n",
    "sys.path.insert(0, \"/Users/ludo/Desktop/animalai/animalai/animalai_train\")\n",
    "sys.path.insert(1, \"/Users/ludo/Desktop/animalai/animalai/animalai\")\n",
    "from animalai.envs.gym.environment import AnimalAIGym\n",
    "import random\n",
    "from animalai.envs.arena_config import ArenaConfig\n",
    "\n",
    "import os\n",
    "import yaml\n",
    "import copy\n",
    "import numpy as np\n",
    "import pandas as pd\n",
    "from matplotlib import pyplot as plt\n",
    "\n",
    "from animalai.envs.environment import AnimalAIEnvironment\n",
    "\n",
    "# CONFIG\n",
    "env_path = '../../env/AnimalAI'\n",
    "# env_path = '../env/AnimalAI'\n",
    "\n",
    "worker_id = 2\n",
    "seed = 1\n",
    "# yaml_path = '../configurations/ramps/0.yml'\n",
    "\n",
    "# yaml_path = '../competition_configurations/3-20-1.yml'\n",
    "# yaml_path = '../configurations/curriculum12/112.yml'\n",
    "# yaml_path = \"../../competition_configurations/5-8-3.yml\" #'configurations/curriculum/0.yaml'\n",
    "# yaml_path = \"slack.yml\"\n",
    "# yaml_path = '../training_set/ramp2.yml'\n",
    "yaml_path = 'test.yml'\n",
    "# yaml_path = f\"../../competition_configurations/4-5-1.yml\"\n",
    "\n",
    "ac = ArenaConfig(yaml_path)\n",
    "\n",
    "env = AnimalAIEnvironment(\n",
    "                    file_name=env_path,\n",
    "                    arenas_configurations = ac,\n",
    "                    worker_id=worker_id,\n",
    "                    play=True, base_port=5002,\n",
    "                    alter_obs = False,\n",
    "                    train=False)\n",
    "# env._env.train =False\n",
    "# env = AnimalAIGym(environment_filename=env_path,\n",
    "#               worker_id=worker_id,\n",
    "#               n_arenas=1,\n",
    "#               arenas_configurations=ac,\n",
    "\n",
    "#                 seed=seed,\n",
    "#                  grayscale=False)\n",
    "x = env.step()\n",
    "\n",
    "# plt.axis('off')\n",
    "# plt.imshow(env.visual_obs)\n",
    "# plt.savefig('rand_env.png',bbox_inches='tight',transparent=True, pad_inches=0)\n"
   ]
  },
  {
   "cell_type": "code",
   "execution_count": null,
   "metadata": {},
   "outputs": [],
   "source": [
    "ac.arenas[0].pass_mark\n"
   ]
  },
  {
   "cell_type": "code",
   "execution_count": null,
   "metadata": {
    "collapsed": true
   },
   "outputs": [],
   "source": [
    "env.get_step_result('AnimalAI?team=0').done\n"
   ]
  },
  {
   "cell_type": "code",
   "execution_count": null,
   "metadata": {
    "collapsed": true
   },
   "outputs": [],
   "source": [
    "0 is ascending towards bottom\n",
    "90 is ascending towards left\n",
    "180 ascending towards top\n",
    "270 ascending towards right\n",
    "\n"
   ]
  }
 ],
 "metadata": {
  "kernelspec": {
   "display_name": "animalaienv",
   "language": "python",
   "name": "animalaienv"
  },
  "language_info": {
   "codemirror_mode": {
    "name": "ipython",
    "version": 3
   },
   "file_extension": ".py",
   "mimetype": "text/x-python",
   "name": "python",
   "nbconvert_exporter": "python",
   "pygments_lexer": "ipython3",
   "version": "3.6.2"
  }
 },
 "nbformat": 4,
 "nbformat_minor": 2
}
